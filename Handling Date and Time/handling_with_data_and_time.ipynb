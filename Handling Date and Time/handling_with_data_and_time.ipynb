{
 "cells": [
  {
   "cell_type": "code",
   "execution_count": 3,
   "id": "ad32309d-033b-4081-9c44-59d3d79a8c6b",
   "metadata": {},
   "outputs": [],
   "source": [
    "import pandas as pd\n",
    "import numpy as np"
   ]
  },
  {
   "cell_type": "code",
   "execution_count": 4,
   "id": "31f0ee2d-1974-49d2-b91c-97a1303df6b3",
   "metadata": {},
   "outputs": [],
   "source": [
    "date = pd.read_csv('orders.csv')\n",
    "time = pd.read_csv('messages.csv')"
   ]
  },
  {
   "cell_type": "code",
   "execution_count": 5,
   "id": "6b8e81d7-2e3a-4684-9f5e-f44bddc1328f",
   "metadata": {},
   "outputs": [
    {
     "data": {
      "application/vnd.microsoft.datawrangler.viewer.v0+json": {
       "columns": [
        {
         "name": "index",
         "rawType": "int64",
         "type": "integer"
        },
        {
         "name": "date",
         "rawType": "object",
         "type": "string"
        },
        {
         "name": "product_id",
         "rawType": "int64",
         "type": "integer"
        },
        {
         "name": "city_id",
         "rawType": "int64",
         "type": "integer"
        },
        {
         "name": "orders",
         "rawType": "int64",
         "type": "integer"
        }
       ],
       "ref": "f0c98a0c-ac87-4291-90d6-b3922ff8835c",
       "rows": [
        [
         "0",
         "2019-12-10",
         "5628",
         "25",
         "3"
        ],
        [
         "1",
         "2018-08-15",
         "3646",
         "14",
         "157"
        ],
        [
         "2",
         "2018-10-23",
         "1859",
         "25",
         "1"
        ],
        [
         "3",
         "2019-08-17",
         "7292",
         "25",
         "1"
        ],
        [
         "4",
         "2019-01-06",
         "4344",
         "25",
         "3"
        ]
       ],
       "shape": {
        "columns": 4,
        "rows": 5
       }
      },
      "text/html": [
       "<div>\n",
       "<style scoped>\n",
       "    .dataframe tbody tr th:only-of-type {\n",
       "        vertical-align: middle;\n",
       "    }\n",
       "\n",
       "    .dataframe tbody tr th {\n",
       "        vertical-align: top;\n",
       "    }\n",
       "\n",
       "    .dataframe thead th {\n",
       "        text-align: right;\n",
       "    }\n",
       "</style>\n",
       "<table border=\"1\" class=\"dataframe\">\n",
       "  <thead>\n",
       "    <tr style=\"text-align: right;\">\n",
       "      <th></th>\n",
       "      <th>date</th>\n",
       "      <th>product_id</th>\n",
       "      <th>city_id</th>\n",
       "      <th>orders</th>\n",
       "    </tr>\n",
       "  </thead>\n",
       "  <tbody>\n",
       "    <tr>\n",
       "      <th>0</th>\n",
       "      <td>2019-12-10</td>\n",
       "      <td>5628</td>\n",
       "      <td>25</td>\n",
       "      <td>3</td>\n",
       "    </tr>\n",
       "    <tr>\n",
       "      <th>1</th>\n",
       "      <td>2018-08-15</td>\n",
       "      <td>3646</td>\n",
       "      <td>14</td>\n",
       "      <td>157</td>\n",
       "    </tr>\n",
       "    <tr>\n",
       "      <th>2</th>\n",
       "      <td>2018-10-23</td>\n",
       "      <td>1859</td>\n",
       "      <td>25</td>\n",
       "      <td>1</td>\n",
       "    </tr>\n",
       "    <tr>\n",
       "      <th>3</th>\n",
       "      <td>2019-08-17</td>\n",
       "      <td>7292</td>\n",
       "      <td>25</td>\n",
       "      <td>1</td>\n",
       "    </tr>\n",
       "    <tr>\n",
       "      <th>4</th>\n",
       "      <td>2019-01-06</td>\n",
       "      <td>4344</td>\n",
       "      <td>25</td>\n",
       "      <td>3</td>\n",
       "    </tr>\n",
       "  </tbody>\n",
       "</table>\n",
       "</div>"
      ],
      "text/plain": [
       "         date  product_id  city_id  orders\n",
       "0  2019-12-10        5628       25       3\n",
       "1  2018-08-15        3646       14     157\n",
       "2  2018-10-23        1859       25       1\n",
       "3  2019-08-17        7292       25       1\n",
       "4  2019-01-06        4344       25       3"
      ]
     },
     "execution_count": 5,
     "metadata": {},
     "output_type": "execute_result"
    }
   ],
   "source": [
    "date.head()"
   ]
  },
  {
   "cell_type": "code",
   "execution_count": 6,
   "id": "c2930875-339d-4271-9c43-7afd1cefde50",
   "metadata": {},
   "outputs": [
    {
     "data": {
      "application/vnd.microsoft.datawrangler.viewer.v0+json": {
       "columns": [
        {
         "name": "index",
         "rawType": "int64",
         "type": "integer"
        },
        {
         "name": "date",
         "rawType": "object",
         "type": "string"
        },
        {
         "name": "msg",
         "rawType": "object",
         "type": "string"
        }
       ],
       "ref": "e27da8b2-d18f-4bc4-a9b8-823a235fd201",
       "rows": [
        [
         "0",
         "2013-12-15 00:50:00",
         "ищу на сегодня мужика 37"
        ],
        [
         "1",
         "2014-04-29 23:40:00",
         "ПАРЕНЬ БИ ИЩЕТ ДРУГА СЕЙЧАС!! СМС ММС 0955532826"
        ],
        [
         "2",
         "2012-12-30 00:21:00",
         "Днепр.м 43 позн.с д/ж *.о  067.16.34.576"
        ],
        [
         "3",
         "2014-11-28 00:31:00",
         "КИЕВ ИЩУ Д/Ж ДО 45 МНЕ СЕЙЧАС СКУЧНО 093 629 98 14 САША ЗВОН"
        ],
        [
         "4",
         "2013-10-26 23:11:00",
         "Зая я тебя никогда не обижу  люблю тебя!)  Даше"
        ]
       ],
       "shape": {
        "columns": 2,
        "rows": 5
       }
      },
      "text/html": [
       "<div>\n",
       "<style scoped>\n",
       "    .dataframe tbody tr th:only-of-type {\n",
       "        vertical-align: middle;\n",
       "    }\n",
       "\n",
       "    .dataframe tbody tr th {\n",
       "        vertical-align: top;\n",
       "    }\n",
       "\n",
       "    .dataframe thead th {\n",
       "        text-align: right;\n",
       "    }\n",
       "</style>\n",
       "<table border=\"1\" class=\"dataframe\">\n",
       "  <thead>\n",
       "    <tr style=\"text-align: right;\">\n",
       "      <th></th>\n",
       "      <th>date</th>\n",
       "      <th>msg</th>\n",
       "    </tr>\n",
       "  </thead>\n",
       "  <tbody>\n",
       "    <tr>\n",
       "      <th>0</th>\n",
       "      <td>2013-12-15 00:50:00</td>\n",
       "      <td>ищу на сегодня мужика 37</td>\n",
       "    </tr>\n",
       "    <tr>\n",
       "      <th>1</th>\n",
       "      <td>2014-04-29 23:40:00</td>\n",
       "      <td>ПАРЕНЬ БИ ИЩЕТ ДРУГА СЕЙЧАС!! СМС ММС 0955532826</td>\n",
       "    </tr>\n",
       "    <tr>\n",
       "      <th>2</th>\n",
       "      <td>2012-12-30 00:21:00</td>\n",
       "      <td>Днепр.м 43 позн.с д/ж *.о  067.16.34.576</td>\n",
       "    </tr>\n",
       "    <tr>\n",
       "      <th>3</th>\n",
       "      <td>2014-11-28 00:31:00</td>\n",
       "      <td>КИЕВ ИЩУ Д/Ж ДО 45 МНЕ СЕЙЧАС СКУЧНО 093 629 9...</td>\n",
       "    </tr>\n",
       "    <tr>\n",
       "      <th>4</th>\n",
       "      <td>2013-10-26 23:11:00</td>\n",
       "      <td>Зая я тебя никогда не обижу  люблю тебя!)  Даше</td>\n",
       "    </tr>\n",
       "  </tbody>\n",
       "</table>\n",
       "</div>"
      ],
      "text/plain": [
       "                  date                                                msg\n",
       "0  2013-12-15 00:50:00                           ищу на сегодня мужика 37\n",
       "1  2014-04-29 23:40:00   ПАРЕНЬ БИ ИЩЕТ ДРУГА СЕЙЧАС!! СМС ММС 0955532826\n",
       "2  2012-12-30 00:21:00           Днепр.м 43 позн.с д/ж *.о  067.16.34.576\n",
       "3  2014-11-28 00:31:00  КИЕВ ИЩУ Д/Ж ДО 45 МНЕ СЕЙЧАС СКУЧНО 093 629 9...\n",
       "4  2013-10-26 23:11:00    Зая я тебя никогда не обижу  люблю тебя!)  Даше"
      ]
     },
     "execution_count": 6,
     "metadata": {},
     "output_type": "execute_result"
    }
   ],
   "source": [
    "time.head()"
   ]
  },
  {
   "cell_type": "code",
   "execution_count": 7,
   "id": "ff05aedc-e0aa-4f8c-934c-fcaf04b98eeb",
   "metadata": {},
   "outputs": [
    {
     "name": "stdout",
     "output_type": "stream",
     "text": [
      "<class 'pandas.core.frame.DataFrame'>\n",
      "RangeIndex: 1000 entries, 0 to 999\n",
      "Data columns (total 4 columns):\n",
      " #   Column      Non-Null Count  Dtype \n",
      "---  ------      --------------  ----- \n",
      " 0   date        1000 non-null   object\n",
      " 1   product_id  1000 non-null   int64 \n",
      " 2   city_id     1000 non-null   int64 \n",
      " 3   orders      1000 non-null   int64 \n",
      "dtypes: int64(3), object(1)\n",
      "memory usage: 31.4+ KB\n"
     ]
    }
   ],
   "source": [
    "date.info()"
   ]
  },
  {
   "cell_type": "code",
   "execution_count": 8,
   "id": "f7bc4727-0b98-48dd-8cda-26db6431b080",
   "metadata": {},
   "outputs": [
    {
     "name": "stdout",
     "output_type": "stream",
     "text": [
      "<class 'pandas.core.frame.DataFrame'>\n",
      "RangeIndex: 1000 entries, 0 to 999\n",
      "Data columns (total 2 columns):\n",
      " #   Column  Non-Null Count  Dtype \n",
      "---  ------  --------------  ----- \n",
      " 0   date    1000 non-null   object\n",
      " 1   msg     1000 non-null   object\n",
      "dtypes: object(2)\n",
      "memory usage: 15.8+ KB\n"
     ]
    }
   ],
   "source": [
    "time.info()"
   ]
  },
  {
   "cell_type": "markdown",
   "id": "f3531031-79c1-417d-9a32-e48c96e92fb1",
   "metadata": {},
   "source": [
    "## Working with Dates"
   ]
  },
  {
   "cell_type": "code",
   "execution_count": 9,
   "id": "1567d689-9b9a-4be6-be08-387bdc06415f",
   "metadata": {},
   "outputs": [],
   "source": [
    "# converting to datetime datatype\n",
    "date['date'] = pd.to_datetime(date['date'])"
   ]
  },
  {
   "cell_type": "code",
   "execution_count": 10,
   "id": "7ff2dd9f-2774-4da5-8ed3-2a4d82123dcb",
   "metadata": {},
   "outputs": [
    {
     "name": "stdout",
     "output_type": "stream",
     "text": [
      "<class 'pandas.core.frame.DataFrame'>\n",
      "RangeIndex: 1000 entries, 0 to 999\n",
      "Data columns (total 4 columns):\n",
      " #   Column      Non-Null Count  Dtype         \n",
      "---  ------      --------------  -----         \n",
      " 0   date        1000 non-null   datetime64[ns]\n",
      " 1   product_id  1000 non-null   int64         \n",
      " 2   city_id     1000 non-null   int64         \n",
      " 3   orders      1000 non-null   int64         \n",
      "dtypes: datetime64[ns](1), int64(3)\n",
      "memory usage: 31.4 KB\n"
     ]
    }
   ],
   "source": [
    "date.info()"
   ]
  },
  {
   "cell_type": "markdown",
   "id": "b3120ff4-c1d5-4029-b0be-b4af8c42217f",
   "metadata": {},
   "source": [
    "## 1. Extracting Year"
   ]
  },
  {
   "cell_type": "code",
   "execution_count": 11,
   "id": "c7b96f39-3b4a-4c28-99b0-3865ac72d252",
   "metadata": {},
   "outputs": [],
   "source": [
    "date['date_year'] = date['date'].dt.year"
   ]
  },
  {
   "cell_type": "code",
   "execution_count": 12,
   "id": "cc494ff2-ae44-4ace-89c1-7c235593014b",
   "metadata": {},
   "outputs": [
    {
     "data": {
      "application/vnd.microsoft.datawrangler.viewer.v0+json": {
       "columns": [
        {
         "name": "index",
         "rawType": "int64",
         "type": "integer"
        },
        {
         "name": "date",
         "rawType": "datetime64[ns]",
         "type": "datetime"
        },
        {
         "name": "product_id",
         "rawType": "int64",
         "type": "integer"
        },
        {
         "name": "city_id",
         "rawType": "int64",
         "type": "integer"
        },
        {
         "name": "orders",
         "rawType": "int64",
         "type": "integer"
        },
        {
         "name": "date_year",
         "rawType": "int32",
         "type": "integer"
        }
       ],
       "ref": "777019ba-c10d-4982-b14c-e64474279b54",
       "rows": [
        [
         "0",
         "2019-12-10 00:00:00",
         "5628",
         "25",
         "3",
         "2019"
        ],
        [
         "1",
         "2018-08-15 00:00:00",
         "3646",
         "14",
         "157",
         "2018"
        ],
        [
         "2",
         "2018-10-23 00:00:00",
         "1859",
         "25",
         "1",
         "2018"
        ],
        [
         "3",
         "2019-08-17 00:00:00",
         "7292",
         "25",
         "1",
         "2019"
        ],
        [
         "4",
         "2019-01-06 00:00:00",
         "4344",
         "25",
         "3",
         "2019"
        ]
       ],
       "shape": {
        "columns": 5,
        "rows": 5
       }
      },
      "text/html": [
       "<div>\n",
       "<style scoped>\n",
       "    .dataframe tbody tr th:only-of-type {\n",
       "        vertical-align: middle;\n",
       "    }\n",
       "\n",
       "    .dataframe tbody tr th {\n",
       "        vertical-align: top;\n",
       "    }\n",
       "\n",
       "    .dataframe thead th {\n",
       "        text-align: right;\n",
       "    }\n",
       "</style>\n",
       "<table border=\"1\" class=\"dataframe\">\n",
       "  <thead>\n",
       "    <tr style=\"text-align: right;\">\n",
       "      <th></th>\n",
       "      <th>date</th>\n",
       "      <th>product_id</th>\n",
       "      <th>city_id</th>\n",
       "      <th>orders</th>\n",
       "      <th>date_year</th>\n",
       "    </tr>\n",
       "  </thead>\n",
       "  <tbody>\n",
       "    <tr>\n",
       "      <th>0</th>\n",
       "      <td>2019-12-10</td>\n",
       "      <td>5628</td>\n",
       "      <td>25</td>\n",
       "      <td>3</td>\n",
       "      <td>2019</td>\n",
       "    </tr>\n",
       "    <tr>\n",
       "      <th>1</th>\n",
       "      <td>2018-08-15</td>\n",
       "      <td>3646</td>\n",
       "      <td>14</td>\n",
       "      <td>157</td>\n",
       "      <td>2018</td>\n",
       "    </tr>\n",
       "    <tr>\n",
       "      <th>2</th>\n",
       "      <td>2018-10-23</td>\n",
       "      <td>1859</td>\n",
       "      <td>25</td>\n",
       "      <td>1</td>\n",
       "      <td>2018</td>\n",
       "    </tr>\n",
       "    <tr>\n",
       "      <th>3</th>\n",
       "      <td>2019-08-17</td>\n",
       "      <td>7292</td>\n",
       "      <td>25</td>\n",
       "      <td>1</td>\n",
       "      <td>2019</td>\n",
       "    </tr>\n",
       "    <tr>\n",
       "      <th>4</th>\n",
       "      <td>2019-01-06</td>\n",
       "      <td>4344</td>\n",
       "      <td>25</td>\n",
       "      <td>3</td>\n",
       "      <td>2019</td>\n",
       "    </tr>\n",
       "  </tbody>\n",
       "</table>\n",
       "</div>"
      ],
      "text/plain": [
       "        date  product_id  city_id  orders  date_year\n",
       "0 2019-12-10        5628       25       3       2019\n",
       "1 2018-08-15        3646       14     157       2018\n",
       "2 2018-10-23        1859       25       1       2018\n",
       "3 2019-08-17        7292       25       1       2019\n",
       "4 2019-01-06        4344       25       3       2019"
      ]
     },
     "execution_count": 12,
     "metadata": {},
     "output_type": "execute_result"
    }
   ],
   "source": [
    "date.head()"
   ]
  },
  {
   "cell_type": "markdown",
   "id": "027f0ef9-b2b2-4cb5-a3d2-116cffdde76d",
   "metadata": {},
   "source": [
    "## 2. Extracting Month"
   ]
  },
  {
   "cell_type": "code",
   "execution_count": 13,
   "id": "0b1be9d1-320c-4bc8-b3c6-e918b8e7bc78",
   "metadata": {},
   "outputs": [],
   "source": [
    "date['date_month_no'] = date['date'].dt.month"
   ]
  },
  {
   "cell_type": "code",
   "execution_count": 14,
   "id": "3793bd53-051c-4a9d-8f97-09a27463de05",
   "metadata": {},
   "outputs": [
    {
     "data": {
      "application/vnd.microsoft.datawrangler.viewer.v0+json": {
       "columns": [
        {
         "name": "index",
         "rawType": "int64",
         "type": "integer"
        },
        {
         "name": "date",
         "rawType": "datetime64[ns]",
         "type": "datetime"
        },
        {
         "name": "product_id",
         "rawType": "int64",
         "type": "integer"
        },
        {
         "name": "city_id",
         "rawType": "int64",
         "type": "integer"
        },
        {
         "name": "orders",
         "rawType": "int64",
         "type": "integer"
        },
        {
         "name": "date_year",
         "rawType": "int32",
         "type": "integer"
        },
        {
         "name": "date_month_no",
         "rawType": "int32",
         "type": "integer"
        }
       ],
       "ref": "564ff93f-0716-4b68-8362-54d370a889af",
       "rows": [
        [
         "875",
         "2018-11-01 00:00:00",
         "4495",
         "28",
         "1",
         "2018",
         "11"
        ],
        [
         "746",
         "2019-02-01 00:00:00",
         "6632",
         "22",
         "5",
         "2019",
         "2"
        ],
        [
         "464",
         "2018-09-26 00:00:00",
         "4895",
         "29",
         "1",
         "2018",
         "9"
        ],
        [
         "309",
         "2019-08-14 00:00:00",
         "4352",
         "16",
         "1",
         "2019",
         "8"
        ],
        [
         "0",
         "2019-12-10 00:00:00",
         "5628",
         "25",
         "3",
         "2019",
         "12"
        ]
       ],
       "shape": {
        "columns": 6,
        "rows": 5
       }
      },
      "text/html": [
       "<div>\n",
       "<style scoped>\n",
       "    .dataframe tbody tr th:only-of-type {\n",
       "        vertical-align: middle;\n",
       "    }\n",
       "\n",
       "    .dataframe tbody tr th {\n",
       "        vertical-align: top;\n",
       "    }\n",
       "\n",
       "    .dataframe thead th {\n",
       "        text-align: right;\n",
       "    }\n",
       "</style>\n",
       "<table border=\"1\" class=\"dataframe\">\n",
       "  <thead>\n",
       "    <tr style=\"text-align: right;\">\n",
       "      <th></th>\n",
       "      <th>date</th>\n",
       "      <th>product_id</th>\n",
       "      <th>city_id</th>\n",
       "      <th>orders</th>\n",
       "      <th>date_year</th>\n",
       "      <th>date_month_no</th>\n",
       "    </tr>\n",
       "  </thead>\n",
       "  <tbody>\n",
       "    <tr>\n",
       "      <th>875</th>\n",
       "      <td>2018-11-01</td>\n",
       "      <td>4495</td>\n",
       "      <td>28</td>\n",
       "      <td>1</td>\n",
       "      <td>2018</td>\n",
       "      <td>11</td>\n",
       "    </tr>\n",
       "    <tr>\n",
       "      <th>746</th>\n",
       "      <td>2019-02-01</td>\n",
       "      <td>6632</td>\n",
       "      <td>22</td>\n",
       "      <td>5</td>\n",
       "      <td>2019</td>\n",
       "      <td>2</td>\n",
       "    </tr>\n",
       "    <tr>\n",
       "      <th>464</th>\n",
       "      <td>2018-09-26</td>\n",
       "      <td>4895</td>\n",
       "      <td>29</td>\n",
       "      <td>1</td>\n",
       "      <td>2018</td>\n",
       "      <td>9</td>\n",
       "    </tr>\n",
       "    <tr>\n",
       "      <th>309</th>\n",
       "      <td>2019-08-14</td>\n",
       "      <td>4352</td>\n",
       "      <td>16</td>\n",
       "      <td>1</td>\n",
       "      <td>2019</td>\n",
       "      <td>8</td>\n",
       "    </tr>\n",
       "    <tr>\n",
       "      <th>0</th>\n",
       "      <td>2019-12-10</td>\n",
       "      <td>5628</td>\n",
       "      <td>25</td>\n",
       "      <td>3</td>\n",
       "      <td>2019</td>\n",
       "      <td>12</td>\n",
       "    </tr>\n",
       "  </tbody>\n",
       "</table>\n",
       "</div>"
      ],
      "text/plain": [
       "          date  product_id  city_id  orders  date_year  date_month_no\n",
       "875 2018-11-01        4495       28       1       2018             11\n",
       "746 2019-02-01        6632       22       5       2019              2\n",
       "464 2018-09-26        4895       29       1       2018              9\n",
       "309 2019-08-14        4352       16       1       2019              8\n",
       "0   2019-12-10        5628       25       3       2019             12"
      ]
     },
     "execution_count": 14,
     "metadata": {},
     "output_type": "execute_result"
    }
   ],
   "source": [
    "date.sample(5)"
   ]
  },
  {
   "cell_type": "code",
   "execution_count": 15,
   "id": "d70936dc-d741-4e82-a8f1-d0aba7d7f9b8",
   "metadata": {},
   "outputs": [],
   "source": [
    "# Extracting month name\n",
    "date['date_month_name'] = date['date'].dt.month_name()"
   ]
  },
  {
   "cell_type": "code",
   "execution_count": 16,
   "id": "ad2a01e0-0f94-4c79-9410-10680ce16963",
   "metadata": {},
   "outputs": [
    {
     "data": {
      "application/vnd.microsoft.datawrangler.viewer.v0+json": {
       "columns": [
        {
         "name": "index",
         "rawType": "int64",
         "type": "integer"
        },
        {
         "name": "date",
         "rawType": "datetime64[ns]",
         "type": "datetime"
        },
        {
         "name": "product_id",
         "rawType": "int64",
         "type": "integer"
        },
        {
         "name": "city_id",
         "rawType": "int64",
         "type": "integer"
        },
        {
         "name": "orders",
         "rawType": "int64",
         "type": "integer"
        },
        {
         "name": "date_year",
         "rawType": "int32",
         "type": "integer"
        },
        {
         "name": "date_month_no",
         "rawType": "int32",
         "type": "integer"
        },
        {
         "name": "date_month_name",
         "rawType": "object",
         "type": "string"
        }
       ],
       "ref": "f09e5fef-7757-43b6-a4de-1b7b29f82f82",
       "rows": [
        [
         "481",
         "2019-02-16 00:00:00",
         "1115",
         "30",
         "1",
         "2019",
         "2",
         "February"
        ],
        [
         "586",
         "2019-06-26 00:00:00",
         "2563",
         "18",
         "8",
         "2019",
         "6",
         "June"
        ],
        [
         "563",
         "2019-04-11 00:00:00",
         "7294",
         "1",
         "2",
         "2019",
         "4",
         "April"
        ],
        [
         "565",
         "2019-04-29 00:00:00",
         "888",
         "20",
         "5",
         "2019",
         "4",
         "April"
        ],
        [
         "73",
         "2019-07-28 00:00:00",
         "3913",
         "13",
         "19",
         "2019",
         "7",
         "July"
        ]
       ],
       "shape": {
        "columns": 7,
        "rows": 5
       }
      },
      "text/html": [
       "<div>\n",
       "<style scoped>\n",
       "    .dataframe tbody tr th:only-of-type {\n",
       "        vertical-align: middle;\n",
       "    }\n",
       "\n",
       "    .dataframe tbody tr th {\n",
       "        vertical-align: top;\n",
       "    }\n",
       "\n",
       "    .dataframe thead th {\n",
       "        text-align: right;\n",
       "    }\n",
       "</style>\n",
       "<table border=\"1\" class=\"dataframe\">\n",
       "  <thead>\n",
       "    <tr style=\"text-align: right;\">\n",
       "      <th></th>\n",
       "      <th>date</th>\n",
       "      <th>product_id</th>\n",
       "      <th>city_id</th>\n",
       "      <th>orders</th>\n",
       "      <th>date_year</th>\n",
       "      <th>date_month_no</th>\n",
       "      <th>date_month_name</th>\n",
       "    </tr>\n",
       "  </thead>\n",
       "  <tbody>\n",
       "    <tr>\n",
       "      <th>481</th>\n",
       "      <td>2019-02-16</td>\n",
       "      <td>1115</td>\n",
       "      <td>30</td>\n",
       "      <td>1</td>\n",
       "      <td>2019</td>\n",
       "      <td>2</td>\n",
       "      <td>February</td>\n",
       "    </tr>\n",
       "    <tr>\n",
       "      <th>586</th>\n",
       "      <td>2019-06-26</td>\n",
       "      <td>2563</td>\n",
       "      <td>18</td>\n",
       "      <td>8</td>\n",
       "      <td>2019</td>\n",
       "      <td>6</td>\n",
       "      <td>June</td>\n",
       "    </tr>\n",
       "    <tr>\n",
       "      <th>563</th>\n",
       "      <td>2019-04-11</td>\n",
       "      <td>7294</td>\n",
       "      <td>1</td>\n",
       "      <td>2</td>\n",
       "      <td>2019</td>\n",
       "      <td>4</td>\n",
       "      <td>April</td>\n",
       "    </tr>\n",
       "    <tr>\n",
       "      <th>565</th>\n",
       "      <td>2019-04-29</td>\n",
       "      <td>888</td>\n",
       "      <td>20</td>\n",
       "      <td>5</td>\n",
       "      <td>2019</td>\n",
       "      <td>4</td>\n",
       "      <td>April</td>\n",
       "    </tr>\n",
       "    <tr>\n",
       "      <th>73</th>\n",
       "      <td>2019-07-28</td>\n",
       "      <td>3913</td>\n",
       "      <td>13</td>\n",
       "      <td>19</td>\n",
       "      <td>2019</td>\n",
       "      <td>7</td>\n",
       "      <td>July</td>\n",
       "    </tr>\n",
       "  </tbody>\n",
       "</table>\n",
       "</div>"
      ],
      "text/plain": [
       "          date  product_id  city_id  orders  date_year  date_month_no  \\\n",
       "481 2019-02-16        1115       30       1       2019              2   \n",
       "586 2019-06-26        2563       18       8       2019              6   \n",
       "563 2019-04-11        7294        1       2       2019              4   \n",
       "565 2019-04-29         888       20       5       2019              4   \n",
       "73  2019-07-28        3913       13      19       2019              7   \n",
       "\n",
       "    date_month_name  \n",
       "481        February  \n",
       "586            June  \n",
       "563           April  \n",
       "565           April  \n",
       "73             July  "
      ]
     },
     "execution_count": 16,
     "metadata": {},
     "output_type": "execute_result"
    }
   ],
   "source": [
    "date.sample(5)"
   ]
  },
  {
   "cell_type": "markdown",
   "id": "15694f04-8870-4f52-8538-4ab45bfd8b70",
   "metadata": {},
   "source": [
    "## Extracting day"
   ]
  },
  {
   "cell_type": "code",
   "execution_count": 17,
   "id": "fb6b2b9f-c786-4074-9925-fb18f05258ce",
   "metadata": {},
   "outputs": [],
   "source": [
    "date['day_no'] = date['date'].dt.day"
   ]
  },
  {
   "cell_type": "code",
   "execution_count": 18,
   "id": "9e83c3e6-322c-434c-a813-7d97e5214809",
   "metadata": {},
   "outputs": [
    {
     "data": {
      "application/vnd.microsoft.datawrangler.viewer.v0+json": {
       "columns": [
        {
         "name": "index",
         "rawType": "int64",
         "type": "integer"
        },
        {
         "name": "date",
         "rawType": "datetime64[ns]",
         "type": "datetime"
        },
        {
         "name": "product_id",
         "rawType": "int64",
         "type": "integer"
        },
        {
         "name": "city_id",
         "rawType": "int64",
         "type": "integer"
        },
        {
         "name": "orders",
         "rawType": "int64",
         "type": "integer"
        },
        {
         "name": "date_year",
         "rawType": "int32",
         "type": "integer"
        },
        {
         "name": "date_month_no",
         "rawType": "int32",
         "type": "integer"
        },
        {
         "name": "date_month_name",
         "rawType": "object",
         "type": "string"
        },
        {
         "name": "day_no",
         "rawType": "int32",
         "type": "integer"
        }
       ],
       "ref": "223492d7-bec4-442e-8d04-6a3ad2c7c34e",
       "rows": [
        [
         "527",
         "2019-08-01 00:00:00",
         "2811",
         "13",
         "2",
         "2019",
         "8",
         "August",
         "1"
        ],
        [
         "161",
         "2019-03-30 00:00:00",
         "7140",
         "18",
         "26",
         "2019",
         "3",
         "March",
         "30"
        ],
        [
         "802",
         "2018-10-23 00:00:00",
         "5361",
         "28",
         "3",
         "2018",
         "10",
         "October",
         "23"
        ],
        [
         "353",
         "2018-08-08 00:00:00",
         "2284",
         "9",
         "8",
         "2018",
         "8",
         "August",
         "8"
        ],
        [
         "690",
         "2018-12-16 00:00:00",
         "3799",
         "20",
         "3",
         "2018",
         "12",
         "December",
         "16"
        ]
       ],
       "shape": {
        "columns": 8,
        "rows": 5
       }
      },
      "text/html": [
       "<div>\n",
       "<style scoped>\n",
       "    .dataframe tbody tr th:only-of-type {\n",
       "        vertical-align: middle;\n",
       "    }\n",
       "\n",
       "    .dataframe tbody tr th {\n",
       "        vertical-align: top;\n",
       "    }\n",
       "\n",
       "    .dataframe thead th {\n",
       "        text-align: right;\n",
       "    }\n",
       "</style>\n",
       "<table border=\"1\" class=\"dataframe\">\n",
       "  <thead>\n",
       "    <tr style=\"text-align: right;\">\n",
       "      <th></th>\n",
       "      <th>date</th>\n",
       "      <th>product_id</th>\n",
       "      <th>city_id</th>\n",
       "      <th>orders</th>\n",
       "      <th>date_year</th>\n",
       "      <th>date_month_no</th>\n",
       "      <th>date_month_name</th>\n",
       "      <th>day_no</th>\n",
       "    </tr>\n",
       "  </thead>\n",
       "  <tbody>\n",
       "    <tr>\n",
       "      <th>527</th>\n",
       "      <td>2019-08-01</td>\n",
       "      <td>2811</td>\n",
       "      <td>13</td>\n",
       "      <td>2</td>\n",
       "      <td>2019</td>\n",
       "      <td>8</td>\n",
       "      <td>August</td>\n",
       "      <td>1</td>\n",
       "    </tr>\n",
       "    <tr>\n",
       "      <th>161</th>\n",
       "      <td>2019-03-30</td>\n",
       "      <td>7140</td>\n",
       "      <td>18</td>\n",
       "      <td>26</td>\n",
       "      <td>2019</td>\n",
       "      <td>3</td>\n",
       "      <td>March</td>\n",
       "      <td>30</td>\n",
       "    </tr>\n",
       "    <tr>\n",
       "      <th>802</th>\n",
       "      <td>2018-10-23</td>\n",
       "      <td>5361</td>\n",
       "      <td>28</td>\n",
       "      <td>3</td>\n",
       "      <td>2018</td>\n",
       "      <td>10</td>\n",
       "      <td>October</td>\n",
       "      <td>23</td>\n",
       "    </tr>\n",
       "    <tr>\n",
       "      <th>353</th>\n",
       "      <td>2018-08-08</td>\n",
       "      <td>2284</td>\n",
       "      <td>9</td>\n",
       "      <td>8</td>\n",
       "      <td>2018</td>\n",
       "      <td>8</td>\n",
       "      <td>August</td>\n",
       "      <td>8</td>\n",
       "    </tr>\n",
       "    <tr>\n",
       "      <th>690</th>\n",
       "      <td>2018-12-16</td>\n",
       "      <td>3799</td>\n",
       "      <td>20</td>\n",
       "      <td>3</td>\n",
       "      <td>2018</td>\n",
       "      <td>12</td>\n",
       "      <td>December</td>\n",
       "      <td>16</td>\n",
       "    </tr>\n",
       "  </tbody>\n",
       "</table>\n",
       "</div>"
      ],
      "text/plain": [
       "          date  product_id  city_id  orders  date_year  date_month_no  \\\n",
       "527 2019-08-01        2811       13       2       2019              8   \n",
       "161 2019-03-30        7140       18      26       2019              3   \n",
       "802 2018-10-23        5361       28       3       2018             10   \n",
       "353 2018-08-08        2284        9       8       2018              8   \n",
       "690 2018-12-16        3799       20       3       2018             12   \n",
       "\n",
       "    date_month_name  day_no  \n",
       "527          August       1  \n",
       "161           March      30  \n",
       "802         October      23  \n",
       "353          August       8  \n",
       "690        December      16  "
      ]
     },
     "execution_count": 18,
     "metadata": {},
     "output_type": "execute_result"
    }
   ],
   "source": [
    "date.sample(5)"
   ]
  },
  {
   "cell_type": "code",
   "execution_count": 19,
   "id": "c5739ccb-6899-4a62-b189-414438dd68f7",
   "metadata": {},
   "outputs": [],
   "source": [
    "# extracting dayofweek\n",
    "date['day_dow'] = date['date'].dt.dayofweek"
   ]
  },
  {
   "cell_type": "code",
   "execution_count": 20,
   "id": "c4711db0-31b9-414e-888d-00571c6d5637",
   "metadata": {},
   "outputs": [],
   "source": [
    "# dayofweek-name\n",
    "date['dow_day_name'] = date['date'].dt.day_name()"
   ]
  },
  {
   "cell_type": "code",
   "execution_count": 21,
   "id": "da076274-eb99-4e2a-aa7b-b0a04b6ed6f1",
   "metadata": {},
   "outputs": [
    {
     "data": {
      "application/vnd.microsoft.datawrangler.viewer.v0+json": {
       "columns": [
        {
         "name": "index",
         "rawType": "int64",
         "type": "integer"
        },
        {
         "name": "date",
         "rawType": "datetime64[ns]",
         "type": "datetime"
        },
        {
         "name": "product_id",
         "rawType": "int64",
         "type": "integer"
        },
        {
         "name": "city_id",
         "rawType": "int64",
         "type": "integer"
        },
        {
         "name": "orders",
         "rawType": "int64",
         "type": "integer"
        },
        {
         "name": "date_year",
         "rawType": "int32",
         "type": "integer"
        },
        {
         "name": "date_month_no",
         "rawType": "int32",
         "type": "integer"
        },
        {
         "name": "date_month_name",
         "rawType": "object",
         "type": "string"
        },
        {
         "name": "day_no",
         "rawType": "int32",
         "type": "integer"
        },
        {
         "name": "day_dow",
         "rawType": "int32",
         "type": "integer"
        },
        {
         "name": "dow_day_name",
         "rawType": "object",
         "type": "string"
        }
       ],
       "ref": "40781e32-0574-4303-8539-1b31a95947ef",
       "rows": [
        [
         "746",
         "2019-02-01 00:00:00",
         "6632",
         "22",
         "5",
         "2019",
         "2",
         "February",
         "1",
         "4",
         "Friday"
        ],
        [
         "452",
         "2018-11-05 00:00:00",
         "7450",
         "21",
         "4",
         "2018",
         "11",
         "November",
         "5",
         "0",
         "Monday"
        ],
        [
         "992",
         "2019-11-01 00:00:00",
         "4146",
         "9",
         "1",
         "2019",
         "11",
         "November",
         "1",
         "4",
         "Friday"
        ],
        [
         "952",
         "2018-08-18 00:00:00",
         "6492",
         "16",
         "1",
         "2018",
         "8",
         "August",
         "18",
         "5",
         "Saturday"
        ],
        [
         "497",
         "2018-11-26 00:00:00",
         "4667",
         "9",
         "1",
         "2018",
         "11",
         "November",
         "26",
         "0",
         "Monday"
        ]
       ],
       "shape": {
        "columns": 10,
        "rows": 5
       }
      },
      "text/html": [
       "<div>\n",
       "<style scoped>\n",
       "    .dataframe tbody tr th:only-of-type {\n",
       "        vertical-align: middle;\n",
       "    }\n",
       "\n",
       "    .dataframe tbody tr th {\n",
       "        vertical-align: top;\n",
       "    }\n",
       "\n",
       "    .dataframe thead th {\n",
       "        text-align: right;\n",
       "    }\n",
       "</style>\n",
       "<table border=\"1\" class=\"dataframe\">\n",
       "  <thead>\n",
       "    <tr style=\"text-align: right;\">\n",
       "      <th></th>\n",
       "      <th>date</th>\n",
       "      <th>product_id</th>\n",
       "      <th>city_id</th>\n",
       "      <th>orders</th>\n",
       "      <th>date_year</th>\n",
       "      <th>date_month_no</th>\n",
       "      <th>date_month_name</th>\n",
       "      <th>day_no</th>\n",
       "      <th>day_dow</th>\n",
       "      <th>dow_day_name</th>\n",
       "    </tr>\n",
       "  </thead>\n",
       "  <tbody>\n",
       "    <tr>\n",
       "      <th>746</th>\n",
       "      <td>2019-02-01</td>\n",
       "      <td>6632</td>\n",
       "      <td>22</td>\n",
       "      <td>5</td>\n",
       "      <td>2019</td>\n",
       "      <td>2</td>\n",
       "      <td>February</td>\n",
       "      <td>1</td>\n",
       "      <td>4</td>\n",
       "      <td>Friday</td>\n",
       "    </tr>\n",
       "    <tr>\n",
       "      <th>452</th>\n",
       "      <td>2018-11-05</td>\n",
       "      <td>7450</td>\n",
       "      <td>21</td>\n",
       "      <td>4</td>\n",
       "      <td>2018</td>\n",
       "      <td>11</td>\n",
       "      <td>November</td>\n",
       "      <td>5</td>\n",
       "      <td>0</td>\n",
       "      <td>Monday</td>\n",
       "    </tr>\n",
       "    <tr>\n",
       "      <th>992</th>\n",
       "      <td>2019-11-01</td>\n",
       "      <td>4146</td>\n",
       "      <td>9</td>\n",
       "      <td>1</td>\n",
       "      <td>2019</td>\n",
       "      <td>11</td>\n",
       "      <td>November</td>\n",
       "      <td>1</td>\n",
       "      <td>4</td>\n",
       "      <td>Friday</td>\n",
       "    </tr>\n",
       "    <tr>\n",
       "      <th>952</th>\n",
       "      <td>2018-08-18</td>\n",
       "      <td>6492</td>\n",
       "      <td>16</td>\n",
       "      <td>1</td>\n",
       "      <td>2018</td>\n",
       "      <td>8</td>\n",
       "      <td>August</td>\n",
       "      <td>18</td>\n",
       "      <td>5</td>\n",
       "      <td>Saturday</td>\n",
       "    </tr>\n",
       "    <tr>\n",
       "      <th>497</th>\n",
       "      <td>2018-11-26</td>\n",
       "      <td>4667</td>\n",
       "      <td>9</td>\n",
       "      <td>1</td>\n",
       "      <td>2018</td>\n",
       "      <td>11</td>\n",
       "      <td>November</td>\n",
       "      <td>26</td>\n",
       "      <td>0</td>\n",
       "      <td>Monday</td>\n",
       "    </tr>\n",
       "  </tbody>\n",
       "</table>\n",
       "</div>"
      ],
      "text/plain": [
       "          date  product_id  city_id  orders  date_year  date_month_no  \\\n",
       "746 2019-02-01        6632       22       5       2019              2   \n",
       "452 2018-11-05        7450       21       4       2018             11   \n",
       "992 2019-11-01        4146        9       1       2019             11   \n",
       "952 2018-08-18        6492       16       1       2018              8   \n",
       "497 2018-11-26        4667        9       1       2018             11   \n",
       "\n",
       "    date_month_name  day_no  day_dow dow_day_name  \n",
       "746        February       1        4       Friday  \n",
       "452        November       5        0       Monday  \n",
       "992        November       1        4       Friday  \n",
       "952          August      18        5     Saturday  \n",
       "497        November      26        0       Monday  "
      ]
     },
     "execution_count": 21,
     "metadata": {},
     "output_type": "execute_result"
    }
   ],
   "source": [
    "date.sample(5)"
   ]
  },
  {
   "cell_type": "code",
   "execution_count": 22,
   "id": "1528498a-9c8b-41b8-bfb7-8eba4af7ffd7",
   "metadata": {},
   "outputs": [
    {
     "data": {
      "application/vnd.microsoft.datawrangler.viewer.v0+json": {
       "columns": [
        {
         "name": "index",
         "rawType": "int64",
         "type": "integer"
        },
        {
         "name": "date",
         "rawType": "datetime64[ns]",
         "type": "datetime"
        },
        {
         "name": "date_year",
         "rawType": "int32",
         "type": "integer"
        },
        {
         "name": "date_month_no",
         "rawType": "int32",
         "type": "integer"
        },
        {
         "name": "date_month_name",
         "rawType": "object",
         "type": "string"
        },
        {
         "name": "day_no",
         "rawType": "int32",
         "type": "integer"
        },
        {
         "name": "day_dow",
         "rawType": "int32",
         "type": "integer"
        },
        {
         "name": "dow_day_name",
         "rawType": "object",
         "type": "string"
        }
       ],
       "ref": "2c8ae581-c962-4a8c-aac6-9beb9077cb21",
       "rows": [
        [
         "0",
         "2019-12-10 00:00:00",
         "2019",
         "12",
         "December",
         "10",
         "1",
         "Tuesday"
        ],
        [
         "1",
         "2018-08-15 00:00:00",
         "2018",
         "8",
         "August",
         "15",
         "2",
         "Wednesday"
        ],
        [
         "2",
         "2018-10-23 00:00:00",
         "2018",
         "10",
         "October",
         "23",
         "1",
         "Tuesday"
        ],
        [
         "3",
         "2019-08-17 00:00:00",
         "2019",
         "8",
         "August",
         "17",
         "5",
         "Saturday"
        ],
        [
         "4",
         "2019-01-06 00:00:00",
         "2019",
         "1",
         "January",
         "6",
         "6",
         "Sunday"
        ]
       ],
       "shape": {
        "columns": 7,
        "rows": 5
       }
      },
      "text/html": [
       "<div>\n",
       "<style scoped>\n",
       "    .dataframe tbody tr th:only-of-type {\n",
       "        vertical-align: middle;\n",
       "    }\n",
       "\n",
       "    .dataframe tbody tr th {\n",
       "        vertical-align: top;\n",
       "    }\n",
       "\n",
       "    .dataframe thead th {\n",
       "        text-align: right;\n",
       "    }\n",
       "</style>\n",
       "<table border=\"1\" class=\"dataframe\">\n",
       "  <thead>\n",
       "    <tr style=\"text-align: right;\">\n",
       "      <th></th>\n",
       "      <th>date</th>\n",
       "      <th>date_year</th>\n",
       "      <th>date_month_no</th>\n",
       "      <th>date_month_name</th>\n",
       "      <th>day_no</th>\n",
       "      <th>day_dow</th>\n",
       "      <th>dow_day_name</th>\n",
       "    </tr>\n",
       "  </thead>\n",
       "  <tbody>\n",
       "    <tr>\n",
       "      <th>0</th>\n",
       "      <td>2019-12-10</td>\n",
       "      <td>2019</td>\n",
       "      <td>12</td>\n",
       "      <td>December</td>\n",
       "      <td>10</td>\n",
       "      <td>1</td>\n",
       "      <td>Tuesday</td>\n",
       "    </tr>\n",
       "    <tr>\n",
       "      <th>1</th>\n",
       "      <td>2018-08-15</td>\n",
       "      <td>2018</td>\n",
       "      <td>8</td>\n",
       "      <td>August</td>\n",
       "      <td>15</td>\n",
       "      <td>2</td>\n",
       "      <td>Wednesday</td>\n",
       "    </tr>\n",
       "    <tr>\n",
       "      <th>2</th>\n",
       "      <td>2018-10-23</td>\n",
       "      <td>2018</td>\n",
       "      <td>10</td>\n",
       "      <td>October</td>\n",
       "      <td>23</td>\n",
       "      <td>1</td>\n",
       "      <td>Tuesday</td>\n",
       "    </tr>\n",
       "    <tr>\n",
       "      <th>3</th>\n",
       "      <td>2019-08-17</td>\n",
       "      <td>2019</td>\n",
       "      <td>8</td>\n",
       "      <td>August</td>\n",
       "      <td>17</td>\n",
       "      <td>5</td>\n",
       "      <td>Saturday</td>\n",
       "    </tr>\n",
       "    <tr>\n",
       "      <th>4</th>\n",
       "      <td>2019-01-06</td>\n",
       "      <td>2019</td>\n",
       "      <td>1</td>\n",
       "      <td>January</td>\n",
       "      <td>6</td>\n",
       "      <td>6</td>\n",
       "      <td>Sunday</td>\n",
       "    </tr>\n",
       "  </tbody>\n",
       "</table>\n",
       "</div>"
      ],
      "text/plain": [
       "        date  date_year  date_month_no date_month_name  day_no  day_dow  \\\n",
       "0 2019-12-10       2019             12        December      10        1   \n",
       "1 2018-08-15       2018              8          August      15        2   \n",
       "2 2018-10-23       2018             10         October      23        1   \n",
       "3 2019-08-17       2019              8          August      17        5   \n",
       "4 2019-01-06       2019              1         January       6        6   \n",
       "\n",
       "  dow_day_name  \n",
       "0      Tuesday  \n",
       "1    Wednesday  \n",
       "2      Tuesday  \n",
       "3     Saturday  \n",
       "4       Sunday  "
      ]
     },
     "execution_count": 22,
     "metadata": {},
     "output_type": "execute_result"
    }
   ],
   "source": [
    "date.drop(columns = ['product_id', 'city_id', 'orders']).head()"
   ]
  },
  {
   "cell_type": "code",
   "execution_count": 23,
   "id": "fe349d12-bc37-480b-b3cb-54431bc633ff",
   "metadata": {},
   "outputs": [],
   "source": [
    "# is day a weekend?\n",
    "date['day_is_weekend'] = np.where(date['dow_day_name'].isin(['Sunday', 'Saturday']), 1, 0)"
   ]
  },
  {
   "cell_type": "code",
   "execution_count": 24,
   "id": "43b9f3ce-e32b-41dc-a435-e6b7545f3bde",
   "metadata": {},
   "outputs": [
    {
     "data": {
      "application/vnd.microsoft.datawrangler.viewer.v0+json": {
       "columns": [
        {
         "name": "index",
         "rawType": "int64",
         "type": "integer"
        },
        {
         "name": "date",
         "rawType": "datetime64[ns]",
         "type": "datetime"
        },
        {
         "name": "product_id",
         "rawType": "int64",
         "type": "integer"
        },
        {
         "name": "city_id",
         "rawType": "int64",
         "type": "integer"
        },
        {
         "name": "orders",
         "rawType": "int64",
         "type": "integer"
        },
        {
         "name": "date_year",
         "rawType": "int32",
         "type": "integer"
        },
        {
         "name": "date_month_no",
         "rawType": "int32",
         "type": "integer"
        },
        {
         "name": "date_month_name",
         "rawType": "object",
         "type": "string"
        },
        {
         "name": "day_no",
         "rawType": "int32",
         "type": "integer"
        },
        {
         "name": "day_dow",
         "rawType": "int32",
         "type": "integer"
        },
        {
         "name": "dow_day_name",
         "rawType": "object",
         "type": "string"
        },
        {
         "name": "day_is_weekend",
         "rawType": "int32",
         "type": "integer"
        }
       ],
       "ref": "f30995f0-f2c2-4e33-9ff7-f76bd16290c0",
       "rows": [
        [
         "0",
         "2019-12-10 00:00:00",
         "5628",
         "25",
         "3",
         "2019",
         "12",
         "December",
         "10",
         "1",
         "Tuesday",
         "0"
        ],
        [
         "1",
         "2018-08-15 00:00:00",
         "3646",
         "14",
         "157",
         "2018",
         "8",
         "August",
         "15",
         "2",
         "Wednesday",
         "0"
        ],
        [
         "2",
         "2018-10-23 00:00:00",
         "1859",
         "25",
         "1",
         "2018",
         "10",
         "October",
         "23",
         "1",
         "Tuesday",
         "0"
        ],
        [
         "3",
         "2019-08-17 00:00:00",
         "7292",
         "25",
         "1",
         "2019",
         "8",
         "August",
         "17",
         "5",
         "Saturday",
         "1"
        ],
        [
         "4",
         "2019-01-06 00:00:00",
         "4344",
         "25",
         "3",
         "2019",
         "1",
         "January",
         "6",
         "6",
         "Sunday",
         "1"
        ]
       ],
       "shape": {
        "columns": 11,
        "rows": 5
       }
      },
      "text/html": [
       "<div>\n",
       "<style scoped>\n",
       "    .dataframe tbody tr th:only-of-type {\n",
       "        vertical-align: middle;\n",
       "    }\n",
       "\n",
       "    .dataframe tbody tr th {\n",
       "        vertical-align: top;\n",
       "    }\n",
       "\n",
       "    .dataframe thead th {\n",
       "        text-align: right;\n",
       "    }\n",
       "</style>\n",
       "<table border=\"1\" class=\"dataframe\">\n",
       "  <thead>\n",
       "    <tr style=\"text-align: right;\">\n",
       "      <th></th>\n",
       "      <th>date</th>\n",
       "      <th>product_id</th>\n",
       "      <th>city_id</th>\n",
       "      <th>orders</th>\n",
       "      <th>date_year</th>\n",
       "      <th>date_month_no</th>\n",
       "      <th>date_month_name</th>\n",
       "      <th>day_no</th>\n",
       "      <th>day_dow</th>\n",
       "      <th>dow_day_name</th>\n",
       "      <th>day_is_weekend</th>\n",
       "    </tr>\n",
       "  </thead>\n",
       "  <tbody>\n",
       "    <tr>\n",
       "      <th>0</th>\n",
       "      <td>2019-12-10</td>\n",
       "      <td>5628</td>\n",
       "      <td>25</td>\n",
       "      <td>3</td>\n",
       "      <td>2019</td>\n",
       "      <td>12</td>\n",
       "      <td>December</td>\n",
       "      <td>10</td>\n",
       "      <td>1</td>\n",
       "      <td>Tuesday</td>\n",
       "      <td>0</td>\n",
       "    </tr>\n",
       "    <tr>\n",
       "      <th>1</th>\n",
       "      <td>2018-08-15</td>\n",
       "      <td>3646</td>\n",
       "      <td>14</td>\n",
       "      <td>157</td>\n",
       "      <td>2018</td>\n",
       "      <td>8</td>\n",
       "      <td>August</td>\n",
       "      <td>15</td>\n",
       "      <td>2</td>\n",
       "      <td>Wednesday</td>\n",
       "      <td>0</td>\n",
       "    </tr>\n",
       "    <tr>\n",
       "      <th>2</th>\n",
       "      <td>2018-10-23</td>\n",
       "      <td>1859</td>\n",
       "      <td>25</td>\n",
       "      <td>1</td>\n",
       "      <td>2018</td>\n",
       "      <td>10</td>\n",
       "      <td>October</td>\n",
       "      <td>23</td>\n",
       "      <td>1</td>\n",
       "      <td>Tuesday</td>\n",
       "      <td>0</td>\n",
       "    </tr>\n",
       "    <tr>\n",
       "      <th>3</th>\n",
       "      <td>2019-08-17</td>\n",
       "      <td>7292</td>\n",
       "      <td>25</td>\n",
       "      <td>1</td>\n",
       "      <td>2019</td>\n",
       "      <td>8</td>\n",
       "      <td>August</td>\n",
       "      <td>17</td>\n",
       "      <td>5</td>\n",
       "      <td>Saturday</td>\n",
       "      <td>1</td>\n",
       "    </tr>\n",
       "    <tr>\n",
       "      <th>4</th>\n",
       "      <td>2019-01-06</td>\n",
       "      <td>4344</td>\n",
       "      <td>25</td>\n",
       "      <td>3</td>\n",
       "      <td>2019</td>\n",
       "      <td>1</td>\n",
       "      <td>January</td>\n",
       "      <td>6</td>\n",
       "      <td>6</td>\n",
       "      <td>Sunday</td>\n",
       "      <td>1</td>\n",
       "    </tr>\n",
       "  </tbody>\n",
       "</table>\n",
       "</div>"
      ],
      "text/plain": [
       "        date  product_id  city_id  orders  date_year  date_month_no  \\\n",
       "0 2019-12-10        5628       25       3       2019             12   \n",
       "1 2018-08-15        3646       14     157       2018              8   \n",
       "2 2018-10-23        1859       25       1       2018             10   \n",
       "3 2019-08-17        7292       25       1       2019              8   \n",
       "4 2019-01-06        4344       25       3       2019              1   \n",
       "\n",
       "  date_month_name  day_no  day_dow dow_day_name  day_is_weekend  \n",
       "0        December      10        1      Tuesday               0  \n",
       "1          August      15        2    Wednesday               0  \n",
       "2         October      23        1      Tuesday               0  \n",
       "3          August      17        5     Saturday               1  \n",
       "4         January       6        6       Sunday               1  "
      ]
     },
     "execution_count": 24,
     "metadata": {},
     "output_type": "execute_result"
    }
   ],
   "source": [
    "date.head(5)"
   ]
  },
  {
   "cell_type": "code",
   "execution_count": 25,
   "id": "e9c90189-7f88-4a1a-a749-b5fc2bc6df84",
   "metadata": {},
   "outputs": [],
   "source": [
    "# Extract Quarter\n",
    "date['quarter'] = date['date'].dt.quarter"
   ]
  },
  {
   "cell_type": "code",
   "execution_count": 26,
   "id": "8e76f7ad-3aa2-4022-bee4-69e87067d1cc",
   "metadata": {},
   "outputs": [
    {
     "data": {
      "application/vnd.microsoft.datawrangler.viewer.v0+json": {
       "columns": [
        {
         "name": "index",
         "rawType": "int64",
         "type": "integer"
        },
        {
         "name": "date",
         "rawType": "datetime64[ns]",
         "type": "datetime"
        },
        {
         "name": "product_id",
         "rawType": "int64",
         "type": "integer"
        },
        {
         "name": "city_id",
         "rawType": "int64",
         "type": "integer"
        },
        {
         "name": "orders",
         "rawType": "int64",
         "type": "integer"
        },
        {
         "name": "date_year",
         "rawType": "int32",
         "type": "integer"
        },
        {
         "name": "date_month_no",
         "rawType": "int32",
         "type": "integer"
        },
        {
         "name": "date_month_name",
         "rawType": "object",
         "type": "string"
        },
        {
         "name": "day_no",
         "rawType": "int32",
         "type": "integer"
        },
        {
         "name": "day_dow",
         "rawType": "int32",
         "type": "integer"
        },
        {
         "name": "dow_day_name",
         "rawType": "object",
         "type": "string"
        },
        {
         "name": "day_is_weekend",
         "rawType": "int32",
         "type": "integer"
        },
        {
         "name": "quarter",
         "rawType": "int32",
         "type": "integer"
        }
       ],
       "ref": "095df9c6-eef7-4a23-8543-edd669052410",
       "rows": [
        [
         "75",
         "2019-10-12 00:00:00",
         "289",
         "24",
         "1",
         "2019",
         "10",
         "October",
         "12",
         "5",
         "Saturday",
         "1",
         "4"
        ],
        [
         "697",
         "2019-10-10 00:00:00",
         "3582",
         "26",
         "2",
         "2019",
         "10",
         "October",
         "10",
         "3",
         "Thursday",
         "0",
         "4"
        ],
        [
         "195",
         "2019-05-01 00:00:00",
         "5470",
         "16",
         "23",
         "2019",
         "5",
         "May",
         "1",
         "2",
         "Wednesday",
         "0",
         "2"
        ],
        [
         "964",
         "2018-12-06 00:00:00",
         "6740",
         "13",
         "3",
         "2018",
         "12",
         "December",
         "6",
         "3",
         "Thursday",
         "0",
         "4"
        ],
        [
         "247",
         "2019-12-06 00:00:00",
         "7148",
         "16",
         "29",
         "2019",
         "12",
         "December",
         "6",
         "4",
         "Friday",
         "0",
         "4"
        ]
       ],
       "shape": {
        "columns": 12,
        "rows": 5
       }
      },
      "text/html": [
       "<div>\n",
       "<style scoped>\n",
       "    .dataframe tbody tr th:only-of-type {\n",
       "        vertical-align: middle;\n",
       "    }\n",
       "\n",
       "    .dataframe tbody tr th {\n",
       "        vertical-align: top;\n",
       "    }\n",
       "\n",
       "    .dataframe thead th {\n",
       "        text-align: right;\n",
       "    }\n",
       "</style>\n",
       "<table border=\"1\" class=\"dataframe\">\n",
       "  <thead>\n",
       "    <tr style=\"text-align: right;\">\n",
       "      <th></th>\n",
       "      <th>date</th>\n",
       "      <th>product_id</th>\n",
       "      <th>city_id</th>\n",
       "      <th>orders</th>\n",
       "      <th>date_year</th>\n",
       "      <th>date_month_no</th>\n",
       "      <th>date_month_name</th>\n",
       "      <th>day_no</th>\n",
       "      <th>day_dow</th>\n",
       "      <th>dow_day_name</th>\n",
       "      <th>day_is_weekend</th>\n",
       "      <th>quarter</th>\n",
       "    </tr>\n",
       "  </thead>\n",
       "  <tbody>\n",
       "    <tr>\n",
       "      <th>75</th>\n",
       "      <td>2019-10-12</td>\n",
       "      <td>289</td>\n",
       "      <td>24</td>\n",
       "      <td>1</td>\n",
       "      <td>2019</td>\n",
       "      <td>10</td>\n",
       "      <td>October</td>\n",
       "      <td>12</td>\n",
       "      <td>5</td>\n",
       "      <td>Saturday</td>\n",
       "      <td>1</td>\n",
       "      <td>4</td>\n",
       "    </tr>\n",
       "    <tr>\n",
       "      <th>697</th>\n",
       "      <td>2019-10-10</td>\n",
       "      <td>3582</td>\n",
       "      <td>26</td>\n",
       "      <td>2</td>\n",
       "      <td>2019</td>\n",
       "      <td>10</td>\n",
       "      <td>October</td>\n",
       "      <td>10</td>\n",
       "      <td>3</td>\n",
       "      <td>Thursday</td>\n",
       "      <td>0</td>\n",
       "      <td>4</td>\n",
       "    </tr>\n",
       "    <tr>\n",
       "      <th>195</th>\n",
       "      <td>2019-05-01</td>\n",
       "      <td>5470</td>\n",
       "      <td>16</td>\n",
       "      <td>23</td>\n",
       "      <td>2019</td>\n",
       "      <td>5</td>\n",
       "      <td>May</td>\n",
       "      <td>1</td>\n",
       "      <td>2</td>\n",
       "      <td>Wednesday</td>\n",
       "      <td>0</td>\n",
       "      <td>2</td>\n",
       "    </tr>\n",
       "    <tr>\n",
       "      <th>964</th>\n",
       "      <td>2018-12-06</td>\n",
       "      <td>6740</td>\n",
       "      <td>13</td>\n",
       "      <td>3</td>\n",
       "      <td>2018</td>\n",
       "      <td>12</td>\n",
       "      <td>December</td>\n",
       "      <td>6</td>\n",
       "      <td>3</td>\n",
       "      <td>Thursday</td>\n",
       "      <td>0</td>\n",
       "      <td>4</td>\n",
       "    </tr>\n",
       "    <tr>\n",
       "      <th>247</th>\n",
       "      <td>2019-12-06</td>\n",
       "      <td>7148</td>\n",
       "      <td>16</td>\n",
       "      <td>29</td>\n",
       "      <td>2019</td>\n",
       "      <td>12</td>\n",
       "      <td>December</td>\n",
       "      <td>6</td>\n",
       "      <td>4</td>\n",
       "      <td>Friday</td>\n",
       "      <td>0</td>\n",
       "      <td>4</td>\n",
       "    </tr>\n",
       "  </tbody>\n",
       "</table>\n",
       "</div>"
      ],
      "text/plain": [
       "          date  product_id  city_id  orders  date_year  date_month_no  \\\n",
       "75  2019-10-12         289       24       1       2019             10   \n",
       "697 2019-10-10        3582       26       2       2019             10   \n",
       "195 2019-05-01        5470       16      23       2019              5   \n",
       "964 2018-12-06        6740       13       3       2018             12   \n",
       "247 2019-12-06        7148       16      29       2019             12   \n",
       "\n",
       "    date_month_name  day_no  day_dow dow_day_name  day_is_weekend  quarter  \n",
       "75          October      12        5     Saturday               1        4  \n",
       "697         October      10        3     Thursday               0        4  \n",
       "195             May       1        2    Wednesday               0        2  \n",
       "964        December       6        3     Thursday               0        4  \n",
       "247        December       6        4       Friday               0        4  "
      ]
     },
     "execution_count": 26,
     "metadata": {},
     "output_type": "execute_result"
    }
   ],
   "source": [
    "date.sample(5)"
   ]
  },
  {
   "cell_type": "code",
   "execution_count": 27,
   "id": "9e6d3794-ab41-4458-a273-3d0bca6a11db",
   "metadata": {},
   "outputs": [],
   "source": [
    "# Extracting semester\n",
    "date['Semester'] = np.where(date['quarter'].isin([1, 2]), 1, 2)"
   ]
  },
  {
   "cell_type": "code",
   "execution_count": 28,
   "id": "b28cdf80-2a18-4b93-93dd-833ff52a5612",
   "metadata": {},
   "outputs": [
    {
     "data": {
      "application/vnd.microsoft.datawrangler.viewer.v0+json": {
       "columns": [
        {
         "name": "index",
         "rawType": "int64",
         "type": "integer"
        },
        {
         "name": "date",
         "rawType": "datetime64[ns]",
         "type": "datetime"
        },
        {
         "name": "product_id",
         "rawType": "int64",
         "type": "integer"
        },
        {
         "name": "city_id",
         "rawType": "int64",
         "type": "integer"
        },
        {
         "name": "orders",
         "rawType": "int64",
         "type": "integer"
        },
        {
         "name": "date_year",
         "rawType": "int32",
         "type": "integer"
        },
        {
         "name": "date_month_no",
         "rawType": "int32",
         "type": "integer"
        },
        {
         "name": "date_month_name",
         "rawType": "object",
         "type": "string"
        },
        {
         "name": "day_no",
         "rawType": "int32",
         "type": "integer"
        },
        {
         "name": "day_dow",
         "rawType": "int32",
         "type": "integer"
        },
        {
         "name": "dow_day_name",
         "rawType": "object",
         "type": "string"
        },
        {
         "name": "day_is_weekend",
         "rawType": "int32",
         "type": "integer"
        },
        {
         "name": "quarter",
         "rawType": "int32",
         "type": "integer"
        },
        {
         "name": "Semester",
         "rawType": "int32",
         "type": "integer"
        }
       ],
       "ref": "312ea78b-b23e-48a7-8389-ed66580b0b45",
       "rows": [
        [
         "0",
         "2019-12-10 00:00:00",
         "5628",
         "25",
         "3",
         "2019",
         "12",
         "December",
         "10",
         "1",
         "Tuesday",
         "0",
         "4",
         "2"
        ],
        [
         "1",
         "2018-08-15 00:00:00",
         "3646",
         "14",
         "157",
         "2018",
         "8",
         "August",
         "15",
         "2",
         "Wednesday",
         "0",
         "3",
         "2"
        ],
        [
         "2",
         "2018-10-23 00:00:00",
         "1859",
         "25",
         "1",
         "2018",
         "10",
         "October",
         "23",
         "1",
         "Tuesday",
         "0",
         "4",
         "2"
        ],
        [
         "3",
         "2019-08-17 00:00:00",
         "7292",
         "25",
         "1",
         "2019",
         "8",
         "August",
         "17",
         "5",
         "Saturday",
         "1",
         "3",
         "2"
        ],
        [
         "4",
         "2019-01-06 00:00:00",
         "4344",
         "25",
         "3",
         "2019",
         "1",
         "January",
         "6",
         "6",
         "Sunday",
         "1",
         "1",
         "1"
        ]
       ],
       "shape": {
        "columns": 13,
        "rows": 5
       }
      },
      "text/html": [
       "<div>\n",
       "<style scoped>\n",
       "    .dataframe tbody tr th:only-of-type {\n",
       "        vertical-align: middle;\n",
       "    }\n",
       "\n",
       "    .dataframe tbody tr th {\n",
       "        vertical-align: top;\n",
       "    }\n",
       "\n",
       "    .dataframe thead th {\n",
       "        text-align: right;\n",
       "    }\n",
       "</style>\n",
       "<table border=\"1\" class=\"dataframe\">\n",
       "  <thead>\n",
       "    <tr style=\"text-align: right;\">\n",
       "      <th></th>\n",
       "      <th>date</th>\n",
       "      <th>product_id</th>\n",
       "      <th>city_id</th>\n",
       "      <th>orders</th>\n",
       "      <th>date_year</th>\n",
       "      <th>date_month_no</th>\n",
       "      <th>date_month_name</th>\n",
       "      <th>day_no</th>\n",
       "      <th>day_dow</th>\n",
       "      <th>dow_day_name</th>\n",
       "      <th>day_is_weekend</th>\n",
       "      <th>quarter</th>\n",
       "      <th>Semester</th>\n",
       "    </tr>\n",
       "  </thead>\n",
       "  <tbody>\n",
       "    <tr>\n",
       "      <th>0</th>\n",
       "      <td>2019-12-10</td>\n",
       "      <td>5628</td>\n",
       "      <td>25</td>\n",
       "      <td>3</td>\n",
       "      <td>2019</td>\n",
       "      <td>12</td>\n",
       "      <td>December</td>\n",
       "      <td>10</td>\n",
       "      <td>1</td>\n",
       "      <td>Tuesday</td>\n",
       "      <td>0</td>\n",
       "      <td>4</td>\n",
       "      <td>2</td>\n",
       "    </tr>\n",
       "    <tr>\n",
       "      <th>1</th>\n",
       "      <td>2018-08-15</td>\n",
       "      <td>3646</td>\n",
       "      <td>14</td>\n",
       "      <td>157</td>\n",
       "      <td>2018</td>\n",
       "      <td>8</td>\n",
       "      <td>August</td>\n",
       "      <td>15</td>\n",
       "      <td>2</td>\n",
       "      <td>Wednesday</td>\n",
       "      <td>0</td>\n",
       "      <td>3</td>\n",
       "      <td>2</td>\n",
       "    </tr>\n",
       "    <tr>\n",
       "      <th>2</th>\n",
       "      <td>2018-10-23</td>\n",
       "      <td>1859</td>\n",
       "      <td>25</td>\n",
       "      <td>1</td>\n",
       "      <td>2018</td>\n",
       "      <td>10</td>\n",
       "      <td>October</td>\n",
       "      <td>23</td>\n",
       "      <td>1</td>\n",
       "      <td>Tuesday</td>\n",
       "      <td>0</td>\n",
       "      <td>4</td>\n",
       "      <td>2</td>\n",
       "    </tr>\n",
       "    <tr>\n",
       "      <th>3</th>\n",
       "      <td>2019-08-17</td>\n",
       "      <td>7292</td>\n",
       "      <td>25</td>\n",
       "      <td>1</td>\n",
       "      <td>2019</td>\n",
       "      <td>8</td>\n",
       "      <td>August</td>\n",
       "      <td>17</td>\n",
       "      <td>5</td>\n",
       "      <td>Saturday</td>\n",
       "      <td>1</td>\n",
       "      <td>3</td>\n",
       "      <td>2</td>\n",
       "    </tr>\n",
       "    <tr>\n",
       "      <th>4</th>\n",
       "      <td>2019-01-06</td>\n",
       "      <td>4344</td>\n",
       "      <td>25</td>\n",
       "      <td>3</td>\n",
       "      <td>2019</td>\n",
       "      <td>1</td>\n",
       "      <td>January</td>\n",
       "      <td>6</td>\n",
       "      <td>6</td>\n",
       "      <td>Sunday</td>\n",
       "      <td>1</td>\n",
       "      <td>1</td>\n",
       "      <td>1</td>\n",
       "    </tr>\n",
       "  </tbody>\n",
       "</table>\n",
       "</div>"
      ],
      "text/plain": [
       "        date  product_id  city_id  orders  date_year  date_month_no  \\\n",
       "0 2019-12-10        5628       25       3       2019             12   \n",
       "1 2018-08-15        3646       14     157       2018              8   \n",
       "2 2018-10-23        1859       25       1       2018             10   \n",
       "3 2019-08-17        7292       25       1       2019              8   \n",
       "4 2019-01-06        4344       25       3       2019              1   \n",
       "\n",
       "  date_month_name  day_no  day_dow dow_day_name  day_is_weekend  quarter  \\\n",
       "0        December      10        1      Tuesday               0        4   \n",
       "1          August      15        2    Wednesday               0        3   \n",
       "2         October      23        1      Tuesday               0        4   \n",
       "3          August      17        5     Saturday               1        3   \n",
       "4         January       6        6       Sunday               1        1   \n",
       "\n",
       "   Semester  \n",
       "0         2  \n",
       "1         2  \n",
       "2         2  \n",
       "3         2  \n",
       "4         1  "
      ]
     },
     "execution_count": 28,
     "metadata": {},
     "output_type": "execute_result"
    }
   ],
   "source": [
    "date.head(5)"
   ]
  },
  {
   "cell_type": "markdown",
   "id": "3aa62032-3e1a-4120-aea8-12eff00c85e0",
   "metadata": {},
   "source": [
    "### Extract Time elapsed between dates"
   ]
  },
  {
   "cell_type": "code",
   "execution_count": 29,
   "id": "a23d67bb-5829-408c-a89b-a802407719ab",
   "metadata": {},
   "outputs": [],
   "source": [
    "import datetime\n",
    "today = datetime.datetime.today()"
   ]
  },
  {
   "cell_type": "code",
   "execution_count": 30,
   "id": "5379d396-68c4-42f6-b5d9-178ddd5aa501",
   "metadata": {},
   "outputs": [
    {
     "data": {
      "text/plain": [
       "datetime.datetime(2025, 7, 10, 12, 29, 57, 121651)"
      ]
     },
     "execution_count": 30,
     "metadata": {},
     "output_type": "execute_result"
    }
   ],
   "source": [
    "today"
   ]
  },
  {
   "cell_type": "code",
   "execution_count": 31,
   "id": "76ec6320-6bc3-466c-897c-ee1046c1e126",
   "metadata": {},
   "outputs": [
    {
     "data": {
      "application/vnd.microsoft.datawrangler.viewer.v0+json": {
       "columns": [
        {
         "name": "index",
         "rawType": "int64",
         "type": "integer"
        },
        {
         "name": "date",
         "rawType": "timedelta64[ns]",
         "type": "unknown"
        }
       ],
       "ref": "104fb641-5d1e-48fc-9abf-ca3dafe60b31",
       "rows": [
        [
         "0",
         "2039 days 12:29:57.121651"
        ],
        [
         "1",
         "2521 days 12:29:57.121651"
        ],
        [
         "2",
         "2452 days 12:29:57.121651"
        ],
        [
         "3",
         "2154 days 12:29:57.121651"
        ],
        [
         "4",
         "2377 days 12:29:57.121651"
        ],
        [
         "5",
         "2513 days 12:29:57.121651"
        ],
        [
         "6",
         "2423 days 12:29:57.121651"
        ],
        [
         "7",
         "2297 days 12:29:57.121651"
        ],
        [
         "8",
         "2203 days 12:29:57.121651"
        ],
        [
         "9",
         "2506 days 12:29:57.121651"
        ],
        [
         "10",
         "2086 days 12:29:57.121651"
        ],
        [
         "11",
         "2169 days 12:29:57.121651"
        ],
        [
         "12",
         "2309 days 12:29:57.121651"
        ],
        [
         "13",
         "2512 days 12:29:57.121651"
        ],
        [
         "14",
         "2234 days 12:29:57.121651"
        ],
        [
         "15",
         "2338 days 12:29:57.121651"
        ],
        [
         "16",
         "2283 days 12:29:57.121651"
        ],
        [
         "17",
         "2481 days 12:29:57.121651"
        ],
        [
         "18",
         "2220 days 12:29:57.121651"
        ],
        [
         "19",
         "2280 days 12:29:57.121651"
        ],
        [
         "20",
         "2049 days 12:29:57.121651"
        ],
        [
         "21",
         "2517 days 12:29:57.121651"
        ],
        [
         "22",
         "2127 days 12:29:57.121651"
        ],
        [
         "23",
         "2524 days 12:29:57.121651"
        ],
        [
         "24",
         "2178 days 12:29:57.121651"
        ],
        [
         "25",
         "2491 days 12:29:57.121651"
        ],
        [
         "26",
         "2374 days 12:29:57.121651"
        ],
        [
         "27",
         "2359 days 12:29:57.121651"
        ],
        [
         "28",
         "2273 days 12:29:57.121651"
        ],
        [
         "29",
         "2332 days 12:29:57.121651"
        ],
        [
         "30",
         "2178 days 12:29:57.121651"
        ],
        [
         "31",
         "2474 days 12:29:57.121651"
        ],
        [
         "32",
         "2452 days 12:29:57.121651"
        ],
        [
         "33",
         "2191 days 12:29:57.121651"
        ],
        [
         "34",
         "2284 days 12:29:57.121651"
        ],
        [
         "35",
         "2363 days 12:29:57.121651"
        ],
        [
         "36",
         "2554 days 12:29:57.121651"
        ],
        [
         "37",
         "2518 days 12:29:57.121651"
        ],
        [
         "38",
         "2337 days 12:29:57.121651"
        ],
        [
         "39",
         "2251 days 12:29:57.121651"
        ],
        [
         "40",
         "2052 days 12:29:57.121651"
        ],
        [
         "41",
         "2286 days 12:29:57.121651"
        ],
        [
         "42",
         "2442 days 12:29:57.121651"
        ],
        [
         "43",
         "2501 days 12:29:57.121651"
        ],
        [
         "44",
         "2533 days 12:29:57.121651"
        ],
        [
         "45",
         "2201 days 12:29:57.121651"
        ],
        [
         "46",
         "2482 days 12:29:57.121651"
        ],
        [
         "47",
         "2403 days 12:29:57.121651"
        ],
        [
         "48",
         "2038 days 12:29:57.121651"
        ],
        [
         "49",
         "2178 days 12:29:57.121651"
        ]
       ],
       "shape": {
        "columns": 1,
        "rows": 1000
       }
      },
      "text/plain": [
       "0     2039 days 12:29:57.121651\n",
       "1     2521 days 12:29:57.121651\n",
       "2     2452 days 12:29:57.121651\n",
       "3     2154 days 12:29:57.121651\n",
       "4     2377 days 12:29:57.121651\n",
       "                 ...           \n",
       "995   2467 days 12:29:57.121651\n",
       "996   2408 days 12:29:57.121651\n",
       "997   2256 days 12:29:57.121651\n",
       "998   2321 days 12:29:57.121651\n",
       "999   2095 days 12:29:57.121651\n",
       "Name: date, Length: 1000, dtype: timedelta64[ns]"
      ]
     },
     "execution_count": 31,
     "metadata": {},
     "output_type": "execute_result"
    }
   ],
   "source": [
    "today - date['date']"
   ]
  },
  {
   "cell_type": "code",
   "execution_count": 32,
   "id": "b4325800-8d92-4975-ab26-95732f756a18",
   "metadata": {},
   "outputs": [
    {
     "data": {
      "application/vnd.microsoft.datawrangler.viewer.v0+json": {
       "columns": [
        {
         "name": "index",
         "rawType": "int64",
         "type": "integer"
        },
        {
         "name": "date",
         "rawType": "int64",
         "type": "integer"
        }
       ],
       "ref": "4905cbbf-4b0c-40c8-87e1-a9c3b6fa2305",
       "rows": [
        [
         "0",
         "2039"
        ],
        [
         "1",
         "2521"
        ],
        [
         "2",
         "2452"
        ],
        [
         "3",
         "2154"
        ],
        [
         "4",
         "2377"
        ],
        [
         "5",
         "2513"
        ],
        [
         "6",
         "2423"
        ],
        [
         "7",
         "2297"
        ],
        [
         "8",
         "2203"
        ],
        [
         "9",
         "2506"
        ],
        [
         "10",
         "2086"
        ],
        [
         "11",
         "2169"
        ],
        [
         "12",
         "2309"
        ],
        [
         "13",
         "2512"
        ],
        [
         "14",
         "2234"
        ],
        [
         "15",
         "2338"
        ],
        [
         "16",
         "2283"
        ],
        [
         "17",
         "2481"
        ],
        [
         "18",
         "2220"
        ],
        [
         "19",
         "2280"
        ],
        [
         "20",
         "2049"
        ],
        [
         "21",
         "2517"
        ],
        [
         "22",
         "2127"
        ],
        [
         "23",
         "2524"
        ],
        [
         "24",
         "2178"
        ],
        [
         "25",
         "2491"
        ],
        [
         "26",
         "2374"
        ],
        [
         "27",
         "2359"
        ],
        [
         "28",
         "2273"
        ],
        [
         "29",
         "2332"
        ],
        [
         "30",
         "2178"
        ],
        [
         "31",
         "2474"
        ],
        [
         "32",
         "2452"
        ],
        [
         "33",
         "2191"
        ],
        [
         "34",
         "2284"
        ],
        [
         "35",
         "2363"
        ],
        [
         "36",
         "2554"
        ],
        [
         "37",
         "2518"
        ],
        [
         "38",
         "2337"
        ],
        [
         "39",
         "2251"
        ],
        [
         "40",
         "2052"
        ],
        [
         "41",
         "2286"
        ],
        [
         "42",
         "2442"
        ],
        [
         "43",
         "2501"
        ],
        [
         "44",
         "2533"
        ],
        [
         "45",
         "2201"
        ],
        [
         "46",
         "2482"
        ],
        [
         "47",
         "2403"
        ],
        [
         "48",
         "2038"
        ],
        [
         "49",
         "2178"
        ]
       ],
       "shape": {
        "columns": 1,
        "rows": 1000
       }
      },
      "text/plain": [
       "0      2039\n",
       "1      2521\n",
       "2      2452\n",
       "3      2154\n",
       "4      2377\n",
       "       ... \n",
       "995    2467\n",
       "996    2408\n",
       "997    2256\n",
       "998    2321\n",
       "999    2095\n",
       "Name: date, Length: 1000, dtype: int64"
      ]
     },
     "execution_count": 32,
     "metadata": {},
     "output_type": "execute_result"
    }
   ],
   "source": [
    "(today - date['date']).dt.days"
   ]
  },
  {
   "cell_type": "code",
   "execution_count": 33,
   "id": "e76dfbbc-0c84-4043-af06-3de363b403da",
   "metadata": {},
   "outputs": [
    {
     "data": {
      "application/vnd.microsoft.datawrangler.viewer.v0+json": {
       "columns": [
        {
         "name": "index",
         "rawType": "int64",
         "type": "integer"
        },
        {
         "name": "date",
         "rawType": "float64",
         "type": "float"
        }
       ],
       "ref": "37d73928-6d76-464b-8342-f61e646cbc5b",
       "rows": [
        [
         "0",
         "2936910.0"
        ],
        [
         "1",
         "3630990.0"
        ],
        [
         "2",
         "3531630.0"
        ],
        [
         "3",
         "3102510.0"
        ],
        [
         "4",
         "3423630.0"
        ],
        [
         "5",
         "3619470.0"
        ],
        [
         "6",
         "3489870.0"
        ],
        [
         "7",
         "3308430.0"
        ],
        [
         "8",
         "3173070.0"
        ],
        [
         "9",
         "3609390.0"
        ],
        [
         "10",
         "3004590.0"
        ],
        [
         "11",
         "3124110.0"
        ],
        [
         "12",
         "3325710.0"
        ],
        [
         "13",
         "3618030.0"
        ],
        [
         "14",
         "3217710.0"
        ],
        [
         "15",
         "3367470.0"
        ],
        [
         "16",
         "3288270.0"
        ],
        [
         "17",
         "3573390.0"
        ],
        [
         "18",
         "3197550.0"
        ],
        [
         "19",
         "3283950.0"
        ],
        [
         "20",
         "2951310.0"
        ],
        [
         "21",
         "3625230.0"
        ],
        [
         "22",
         "3063630.0"
        ],
        [
         "23",
         "3635310.0"
        ],
        [
         "24",
         "3137070.0"
        ],
        [
         "25",
         "3587790.0"
        ],
        [
         "26",
         "3419310.0"
        ],
        [
         "27",
         "3397710.0"
        ],
        [
         "28",
         "3273870.0"
        ],
        [
         "29",
         "3358830.0"
        ],
        [
         "30",
         "3137070.0"
        ],
        [
         "31",
         "3563310.0"
        ],
        [
         "32",
         "3531630.0"
        ],
        [
         "33",
         "3155790.0"
        ],
        [
         "34",
         "3289710.0"
        ],
        [
         "35",
         "3403470.0"
        ],
        [
         "36",
         "3678510.0"
        ],
        [
         "37",
         "3626670.0"
        ],
        [
         "38",
         "3366030.0"
        ],
        [
         "39",
         "3242190.0"
        ],
        [
         "40",
         "2955630.0"
        ],
        [
         "41",
         "3292590.0"
        ],
        [
         "42",
         "3517230.0"
        ],
        [
         "43",
         "3602190.0"
        ],
        [
         "44",
         "3648270.0"
        ],
        [
         "45",
         "3170190.0"
        ],
        [
         "46",
         "3574830.0"
        ],
        [
         "47",
         "3461070.0"
        ],
        [
         "48",
         "2935470.0"
        ],
        [
         "49",
         "3137070.0"
        ]
       ],
       "shape": {
        "columns": 1,
        "rows": 1000
       }
      },
      "text/plain": [
       "0      2936910.0\n",
       "1      3630990.0\n",
       "2      3531630.0\n",
       "3      3102510.0\n",
       "4      3423630.0\n",
       "         ...    \n",
       "995    3553230.0\n",
       "996    3468270.0\n",
       "997    3249390.0\n",
       "998    3342990.0\n",
       "999    3017550.0\n",
       "Name: date, Length: 1000, dtype: float64"
      ]
     },
     "execution_count": 33,
     "metadata": {},
     "output_type": "execute_result"
    }
   ],
   "source": [
    "np.round((today - date['date']) / np.timedelta64(1, 'm'), 0)"
   ]
  },
  {
   "cell_type": "markdown",
   "id": "ba09dcb5-2d4b-427b-9d89-ee43f528ffb8",
   "metadata": {},
   "source": [
    "# Working with Time"
   ]
  },
  {
   "cell_type": "code",
   "execution_count": 34,
   "id": "fdea504d-f81a-405e-865d-b7acd69aab12",
   "metadata": {},
   "outputs": [
    {
     "data": {
      "application/vnd.microsoft.datawrangler.viewer.v0+json": {
       "columns": [
        {
         "name": "index",
         "rawType": "int64",
         "type": "integer"
        },
        {
         "name": "date",
         "rawType": "object",
         "type": "string"
        },
        {
         "name": "msg",
         "rawType": "object",
         "type": "string"
        }
       ],
       "ref": "23c50076-d9b2-41cc-845b-ff729684dcc9",
       "rows": [
        [
         "0",
         "2013-12-15 00:50:00",
         "ищу на сегодня мужика 37"
        ],
        [
         "1",
         "2014-04-29 23:40:00",
         "ПАРЕНЬ БИ ИЩЕТ ДРУГА СЕЙЧАС!! СМС ММС 0955532826"
        ],
        [
         "2",
         "2012-12-30 00:21:00",
         "Днепр.м 43 позн.с д/ж *.о  067.16.34.576"
        ],
        [
         "3",
         "2014-11-28 00:31:00",
         "КИЕВ ИЩУ Д/Ж ДО 45 МНЕ СЕЙЧАС СКУЧНО 093 629 98 14 САША ЗВОН"
        ],
        [
         "4",
         "2013-10-26 23:11:00",
         "Зая я тебя никогда не обижу  люблю тебя!)  Даше"
        ],
        [
         "5",
         "2016-03-08 22:52:00",
         "пар.32прок.дев.на авто по ночн.городу.Днепр.0681705017"
        ],
        [
         "6",
         "2014-02-18 00:23:00",
         "Семейная пара познакомится для отношений"
        ],
        [
         "7",
         "2012-11-23 01:10:00",
         "ДЛЯ С.П СНАЧАЛО СМС 066.679.400.8"
        ],
        [
         "8",
         "2014-12-23 01:20:00",
         "Дедушки ау вы где? СНЕГУРОЧКИ СКУЧАЮТ. Здесь есть нормальные. Перезвоним"
        ],
        [
         "9",
         "2012-11-03 23:46:00",
         "ищу парня с авто.063 528 90 72"
        ],
        [
         "10",
         "2013-07-26 00:11:00",
         "Хочу обшения на инт темы с девушкой 0500747823 я парень. Жду придл"
        ],
        [
         "11",
         "2013-12-18 00:39:00",
         "открою дверь прохожему который хочет погреться. Анна 25"
        ],
        [
         "12",
         "2013-06-05 01:05:00",
         ".эксперементаторше. 0678676246"
        ],
        [
         "13",
         "2016-11-27 22:29:00",
         "Полненькая девушка ищет парня для серн.отн.Алина 22! 0936325538"
        ],
        [
         "14",
         "2015-10-04 01:42:00",
         "парень ищет общения. 099"
        ],
        [
         "15",
         "2012-08-24 23:13:00",
         "Саша 4 Я знаю все о твоих письмах.Сколько это будет продолжаться?"
        ],
        [
         "16",
         "2015-10-19 22:52:00",
         "КТО СДЕЛАЕТ ПАРНЮ МАССАЖ ДЕВ ИЛИ 2 СЕЙЧАС 099 152 94 91"
        ],
        [
         "17",
         "2013-10-13 01:01:00",
         "М.37 хочу общения с д/ж и не только. смс ммс звони 0931446848"
        ],
        [
         "18",
         "2016-01-19 22:33:00",
         "Элегантная госпожа ищет мальчика на побегушках. И БЕЗ БЭ!"
        ],
        [
         "19",
         "2014-03-17 23:16:00",
         "МЗ9ПОЗНАК.СО СТРОЙНОЙ ДЕВ.С ДНЕПРА ДО З0 ДЛЯ С.О.0666З00525"
        ],
        [
         "20",
         "2014-06-11 00:12:00",
         "парень познакомиться с.девушкой для серьёзных отношений придержи 0688717125"
        ],
        [
         "21",
         "2014-01-23 00:17:00",
         "увезу Д до 20 за границу стройн красив Алексей"
        ],
        [
         "22",
         "2015-02-18 00:34:00",
         "ищю д-ж для и от30до60 сначала смс админ 226(0930852713)"
        ],
        [
         "23",
         "2013-09-10 00:06:00",
         "ласковая кошечка ищет своего ночного котика"
        ],
        [
         "24",
         "2013-03-18 02:00:00",
         "Мар Володя"
        ],
        [
         "25",
         "2014-06-03 01:01:00",
         "М   41.185.75. Интересные Женщ. Есть? Дн-жинск.0639642652"
        ],
        [
         "26",
         "2016-07-31 23:19:00",
         "М38/192/95 ищу сим дев реб не помеха 0679688357"
        ],
        [
         "27",
         "2014-11-30 22:59:00",
         "М 48/176 для серьёзн. отн с Ж до 49л  ДНЕПР  096 22 66 030  задержи"
        ],
        [
         "28",
         "2016-11-08 00:17:00",
         "097 509 29 45 ИЩУ Д/Ж 35-45 ЛЕТ ДЛЯ И. О .ЗАПОРОЖЬЕ!ОТВ.НА СМС.ММС:)"
        ],
        [
         "29",
         "2014-03-21 22:56:00",
         "отв 80"
        ],
        [
         "30",
         "2013-03-16 23:20:00",
         "Д.позн.с поряд.парнем27-29 Для С/О.Ростдо1.75 только СМС 0639909813"
        ],
        [
         "31",
         "2013-03-03 00:58:00",
         ". Мне 36. Хочу женщину 50-55лет. Жду смс ммс. Днепр!! 0962820419."
        ],
        [
         "32",
         "2012-02-20 23:40:00",
         "ПАР ПРИГЛАСИТ ИЛИ ПРИЕДЕТ К  ДЕВ ДЛЯ ЛЮБВИ сейчас 093 403 65 35"
        ],
        [
         "33",
         "2015-07-03 00:45:00",
         "п+п познакомится30-45 звонить завтра после10 .0675174424"
        ],
        [
         "34",
         "2015-10-10 00:52:00",
         "Днепр Пар 32лет познак с Жен 40-50лет для встреч 093-011-85-54 СМС"
        ],
        [
         "35",
         "2015-10-27 01:07:00",
         "Парень 24. Ищу девушку"
        ],
        [
         "36",
         "2014-06-30 01:13:00",
         "Адекватный парень с богатой фантазией пообщается с раскрепощенной девушкой на любые  в т.ч. и**** темы (096)2833169. Киевстар."
        ],
        [
         "37",
         "2013-11-05 01:49:00",
         "СамыйПервыйПакимонЧебурашкараскрылТайнуСвоегоПоявнияНаСветНеповерите"
        ],
        [
         "38",
         "2013-10-26 00:12:00",
         "сделаю инт массаж М за 40 Света"
        ],
        [
         "39",
         "2016-05-07 00:07:00",
         "Муж.45.женат ищу дев.женщину для встреч.жду ваши смс 050 24 88 666"
        ],
        [
         "40",
         "2012-02-17 00:49:00",
         "ПРИВЕТ!ХОРОШИЙ ПАРЕНЬ 29Л.ПОЗН.С ДАМОЙ.СМС НА 095.111.40.23ПРИДЕРЖИ"
        ],
        [
         "41",
         "2013-02-23 00:53:00",
         "Полная девушка ищет парня. 0635923435"
        ],
        [
         "42",
         "2013-01-19 01:08:00",
         "Вась  скучаю  твоя Аленка"
        ],
        [
         "43",
         "2013-11-16 23:46:00",
         "Вы лучшие! нашел Девушку она делает всееее!"
        ],
        [
         "44",
         "2016-07-01 23:42:00",
         "Есть толковый парень? желательно без пошлостей. Маша. 26 лет"
        ],
        [
         "45",
         "2012-05-29 00:28:00",
         "П26 ищу женщину.Хотелось бы старше.Днепр.0501365708"
        ],
        [
         "46",
         "2012-09-25 23:46:00",
         "парень ищет стройн  девушку на всю жизнь.0630431205.смс о себе.ДНЕПР"
        ],
        [
         "47",
         "2014-05-11 00:31:00",
         "дев. обменяется и* фото с дев. Только ммс. Т. 096-520-67-97"
        ],
        [
         "48",
         "2013-01-19 23:07:00",
         "п 29 поз с дев  для встреч сейчас  0636501245 перезвоню задержи."
        ],
        [
         "49",
         "2014-10-06 23:40:00",
         "Ж 46познак с М 50 и больше  Лера"
        ]
       ],
       "shape": {
        "columns": 2,
        "rows": 1000
       }
      },
      "text/html": [
       "<div>\n",
       "<style scoped>\n",
       "    .dataframe tbody tr th:only-of-type {\n",
       "        vertical-align: middle;\n",
       "    }\n",
       "\n",
       "    .dataframe tbody tr th {\n",
       "        vertical-align: top;\n",
       "    }\n",
       "\n",
       "    .dataframe thead th {\n",
       "        text-align: right;\n",
       "    }\n",
       "</style>\n",
       "<table border=\"1\" class=\"dataframe\">\n",
       "  <thead>\n",
       "    <tr style=\"text-align: right;\">\n",
       "      <th></th>\n",
       "      <th>date</th>\n",
       "      <th>msg</th>\n",
       "    </tr>\n",
       "  </thead>\n",
       "  <tbody>\n",
       "    <tr>\n",
       "      <th>0</th>\n",
       "      <td>2013-12-15 00:50:00</td>\n",
       "      <td>ищу на сегодня мужика 37</td>\n",
       "    </tr>\n",
       "    <tr>\n",
       "      <th>1</th>\n",
       "      <td>2014-04-29 23:40:00</td>\n",
       "      <td>ПАРЕНЬ БИ ИЩЕТ ДРУГА СЕЙЧАС!! СМС ММС 0955532826</td>\n",
       "    </tr>\n",
       "    <tr>\n",
       "      <th>2</th>\n",
       "      <td>2012-12-30 00:21:00</td>\n",
       "      <td>Днепр.м 43 позн.с д/ж *.о  067.16.34.576</td>\n",
       "    </tr>\n",
       "    <tr>\n",
       "      <th>3</th>\n",
       "      <td>2014-11-28 00:31:00</td>\n",
       "      <td>КИЕВ ИЩУ Д/Ж ДО 45 МНЕ СЕЙЧАС СКУЧНО 093 629 9...</td>\n",
       "    </tr>\n",
       "    <tr>\n",
       "      <th>4</th>\n",
       "      <td>2013-10-26 23:11:00</td>\n",
       "      <td>Зая я тебя никогда не обижу  люблю тебя!)  Даше</td>\n",
       "    </tr>\n",
       "    <tr>\n",
       "      <th>...</th>\n",
       "      <td>...</td>\n",
       "      <td>...</td>\n",
       "    </tr>\n",
       "    <tr>\n",
       "      <th>995</th>\n",
       "      <td>2012-03-16 00:50:00</td>\n",
       "      <td>ПАРЕНЬ СДЕЛАЕТ  МАССАЖ ЖЕНЩИНАМ -066-877-32-44</td>\n",
       "    </tr>\n",
       "    <tr>\n",
       "      <th>996</th>\n",
       "      <td>2014-01-23 23:14:00</td>\n",
       "      <td>сельский п 23 ищу девушку для отношений</td>\n",
       "    </tr>\n",
       "    <tr>\n",
       "      <th>997</th>\n",
       "      <td>2012-10-15 23:37:00</td>\n",
       "      <td>Д+Д ДЛЯ серьезных отношений. Мой номер 093-156...</td>\n",
       "    </tr>\n",
       "    <tr>\n",
       "      <th>998</th>\n",
       "      <td>2012-06-21 23:34:00</td>\n",
       "      <td>7 ДНЕПР М.34 ПОЗ.С Д/Ж ДЛЯ ВСТРЕЧ.Т.098 809 15 14</td>\n",
       "    </tr>\n",
       "    <tr>\n",
       "      <th>999</th>\n",
       "      <td>2014-06-19 23:25:00</td>\n",
       "      <td>Парень поласкает девушке...  т.0662035584</td>\n",
       "    </tr>\n",
       "  </tbody>\n",
       "</table>\n",
       "<p>1000 rows × 2 columns</p>\n",
       "</div>"
      ],
      "text/plain": [
       "                    date                                                msg\n",
       "0    2013-12-15 00:50:00                           ищу на сегодня мужика 37\n",
       "1    2014-04-29 23:40:00   ПАРЕНЬ БИ ИЩЕТ ДРУГА СЕЙЧАС!! СМС ММС 0955532826\n",
       "2    2012-12-30 00:21:00           Днепр.м 43 позн.с д/ж *.о  067.16.34.576\n",
       "3    2014-11-28 00:31:00  КИЕВ ИЩУ Д/Ж ДО 45 МНЕ СЕЙЧАС СКУЧНО 093 629 9...\n",
       "4    2013-10-26 23:11:00    Зая я тебя никогда не обижу  люблю тебя!)  Даше\n",
       "..                   ...                                                ...\n",
       "995  2012-03-16 00:50:00     ПАРЕНЬ СДЕЛАЕТ  МАССАЖ ЖЕНЩИНАМ -066-877-32-44\n",
       "996  2014-01-23 23:14:00            сельский п 23 ищу девушку для отношений\n",
       "997  2012-10-15 23:37:00  Д+Д ДЛЯ серьезных отношений. Мой номер 093-156...\n",
       "998  2012-06-21 23:34:00  7 ДНЕПР М.34 ПОЗ.С Д/Ж ДЛЯ ВСТРЕЧ.Т.098 809 15 14\n",
       "999  2014-06-19 23:25:00          Парень поласкает девушке...  т.0662035584\n",
       "\n",
       "[1000 rows x 2 columns]"
      ]
     },
     "execution_count": 34,
     "metadata": {},
     "output_type": "execute_result"
    }
   ],
   "source": [
    "time"
   ]
  },
  {
   "cell_type": "code",
   "execution_count": 35,
   "id": "add94aff-9524-4573-90a3-1d76ad660157",
   "metadata": {},
   "outputs": [
    {
     "name": "stdout",
     "output_type": "stream",
     "text": [
      "<class 'pandas.core.series.Series'>\n",
      "RangeIndex: 1000 entries, 0 to 999\n",
      "Series name: date\n",
      "Non-Null Count  Dtype \n",
      "--------------  ----- \n",
      "1000 non-null   object\n",
      "dtypes: object(1)\n",
      "memory usage: 7.9+ KB\n"
     ]
    }
   ],
   "source": [
    "time['date'].info()"
   ]
  },
  {
   "cell_type": "code",
   "execution_count": 36,
   "id": "b2553167-11a6-4729-82d2-d971414ff3a6",
   "metadata": {},
   "outputs": [],
   "source": [
    "time['date'] = pd.to_datetime(time['date'])"
   ]
  },
  {
   "cell_type": "code",
   "execution_count": 37,
   "id": "80a11b76-6845-447d-92e0-cf95ce0e4c5c",
   "metadata": {},
   "outputs": [
    {
     "name": "stdout",
     "output_type": "stream",
     "text": [
      "<class 'pandas.core.frame.DataFrame'>\n",
      "RangeIndex: 1000 entries, 0 to 999\n",
      "Data columns (total 2 columns):\n",
      " #   Column  Non-Null Count  Dtype         \n",
      "---  ------  --------------  -----         \n",
      " 0   date    1000 non-null   datetime64[ns]\n",
      " 1   msg     1000 non-null   object        \n",
      "dtypes: datetime64[ns](1), object(1)\n",
      "memory usage: 15.8+ KB\n"
     ]
    }
   ],
   "source": [
    "time.info()"
   ]
  },
  {
   "cell_type": "code",
   "execution_count": 38,
   "id": "e5fdd9c0-f430-4fa7-95e7-800129c5c95a",
   "metadata": {},
   "outputs": [],
   "source": [
    "# Extracting hour, min and sec\n",
    "time['hour'] = time['date'].dt.hour\n",
    "time['min'] = time['date'].dt.minute\n",
    "time['sec'] = time['date'].dt.second\n"
   ]
  },
  {
   "cell_type": "code",
   "execution_count": 39,
   "id": "81771b1d-7358-4128-a412-fc13af682933",
   "metadata": {},
   "outputs": [
    {
     "data": {
      "application/vnd.microsoft.datawrangler.viewer.v0+json": {
       "columns": [
        {
         "name": "index",
         "rawType": "int64",
         "type": "integer"
        },
        {
         "name": "date",
         "rawType": "datetime64[ns]",
         "type": "datetime"
        },
        {
         "name": "msg",
         "rawType": "object",
         "type": "string"
        },
        {
         "name": "hour",
         "rawType": "int32",
         "type": "integer"
        },
        {
         "name": "min",
         "rawType": "int32",
         "type": "integer"
        },
        {
         "name": "sec",
         "rawType": "int32",
         "type": "integer"
        }
       ],
       "ref": "3ffe7fde-f971-4f99-b99c-8011904d3c87",
       "rows": [
        [
         "0",
         "2013-12-15 00:50:00",
         "ищу на сегодня мужика 37",
         "0",
         "50",
         "0"
        ],
        [
         "1",
         "2014-04-29 23:40:00",
         "ПАРЕНЬ БИ ИЩЕТ ДРУГА СЕЙЧАС!! СМС ММС 0955532826",
         "23",
         "40",
         "0"
        ],
        [
         "2",
         "2012-12-30 00:21:00",
         "Днепр.м 43 позн.с д/ж *.о  067.16.34.576",
         "0",
         "21",
         "0"
        ],
        [
         "3",
         "2014-11-28 00:31:00",
         "КИЕВ ИЩУ Д/Ж ДО 45 МНЕ СЕЙЧАС СКУЧНО 093 629 98 14 САША ЗВОН",
         "0",
         "31",
         "0"
        ],
        [
         "4",
         "2013-10-26 23:11:00",
         "Зая я тебя никогда не обижу  люблю тебя!)  Даше",
         "23",
         "11",
         "0"
        ]
       ],
       "shape": {
        "columns": 5,
        "rows": 5
       }
      },
      "text/html": [
       "<div>\n",
       "<style scoped>\n",
       "    .dataframe tbody tr th:only-of-type {\n",
       "        vertical-align: middle;\n",
       "    }\n",
       "\n",
       "    .dataframe tbody tr th {\n",
       "        vertical-align: top;\n",
       "    }\n",
       "\n",
       "    .dataframe thead th {\n",
       "        text-align: right;\n",
       "    }\n",
       "</style>\n",
       "<table border=\"1\" class=\"dataframe\">\n",
       "  <thead>\n",
       "    <tr style=\"text-align: right;\">\n",
       "      <th></th>\n",
       "      <th>date</th>\n",
       "      <th>msg</th>\n",
       "      <th>hour</th>\n",
       "      <th>min</th>\n",
       "      <th>sec</th>\n",
       "    </tr>\n",
       "  </thead>\n",
       "  <tbody>\n",
       "    <tr>\n",
       "      <th>0</th>\n",
       "      <td>2013-12-15 00:50:00</td>\n",
       "      <td>ищу на сегодня мужика 37</td>\n",
       "      <td>0</td>\n",
       "      <td>50</td>\n",
       "      <td>0</td>\n",
       "    </tr>\n",
       "    <tr>\n",
       "      <th>1</th>\n",
       "      <td>2014-04-29 23:40:00</td>\n",
       "      <td>ПАРЕНЬ БИ ИЩЕТ ДРУГА СЕЙЧАС!! СМС ММС 0955532826</td>\n",
       "      <td>23</td>\n",
       "      <td>40</td>\n",
       "      <td>0</td>\n",
       "    </tr>\n",
       "    <tr>\n",
       "      <th>2</th>\n",
       "      <td>2012-12-30 00:21:00</td>\n",
       "      <td>Днепр.м 43 позн.с д/ж *.о  067.16.34.576</td>\n",
       "      <td>0</td>\n",
       "      <td>21</td>\n",
       "      <td>0</td>\n",
       "    </tr>\n",
       "    <tr>\n",
       "      <th>3</th>\n",
       "      <td>2014-11-28 00:31:00</td>\n",
       "      <td>КИЕВ ИЩУ Д/Ж ДО 45 МНЕ СЕЙЧАС СКУЧНО 093 629 9...</td>\n",
       "      <td>0</td>\n",
       "      <td>31</td>\n",
       "      <td>0</td>\n",
       "    </tr>\n",
       "    <tr>\n",
       "      <th>4</th>\n",
       "      <td>2013-10-26 23:11:00</td>\n",
       "      <td>Зая я тебя никогда не обижу  люблю тебя!)  Даше</td>\n",
       "      <td>23</td>\n",
       "      <td>11</td>\n",
       "      <td>0</td>\n",
       "    </tr>\n",
       "  </tbody>\n",
       "</table>\n",
       "</div>"
      ],
      "text/plain": [
       "                 date                                                msg  \\\n",
       "0 2013-12-15 00:50:00                           ищу на сегодня мужика 37   \n",
       "1 2014-04-29 23:40:00   ПАРЕНЬ БИ ИЩЕТ ДРУГА СЕЙЧАС!! СМС ММС 0955532826   \n",
       "2 2012-12-30 00:21:00           Днепр.м 43 позн.с д/ж *.о  067.16.34.576   \n",
       "3 2014-11-28 00:31:00  КИЕВ ИЩУ Д/Ж ДО 45 МНЕ СЕЙЧАС СКУЧНО 093 629 9...   \n",
       "4 2013-10-26 23:11:00    Зая я тебя никогда не обижу  люблю тебя!)  Даше   \n",
       "\n",
       "   hour  min  sec  \n",
       "0     0   50    0  \n",
       "1    23   40    0  \n",
       "2     0   21    0  \n",
       "3     0   31    0  \n",
       "4    23   11    0  "
      ]
     },
     "execution_count": 39,
     "metadata": {},
     "output_type": "execute_result"
    }
   ],
   "source": [
    "time.head()"
   ]
  },
  {
   "cell_type": "code",
   "execution_count": 40,
   "id": "98410d91-7299-4fb4-bb84-94a63f7e6ddb",
   "metadata": {},
   "outputs": [
    {
     "data": {
      "application/vnd.microsoft.datawrangler.viewer.v0+json": {
       "columns": [
        {
         "name": "index",
         "rawType": "int64",
         "type": "integer"
        },
        {
         "name": "date",
         "rawType": "datetime64[ns]",
         "type": "datetime"
        },
        {
         "name": "msg",
         "rawType": "object",
         "type": "string"
        },
        {
         "name": "hour",
         "rawType": "int32",
         "type": "integer"
        },
        {
         "name": "min",
         "rawType": "int32",
         "type": "integer"
        },
        {
         "name": "sec",
         "rawType": "int32",
         "type": "integer"
        },
        {
         "name": "time",
         "rawType": "object",
         "type": "unknown"
        }
       ],
       "ref": "94a211a0-69fe-447d-8bf7-92ae227f75da",
       "rows": [
        [
         "0",
         "2013-12-15 00:50:00",
         "ищу на сегодня мужика 37",
         "0",
         "50",
         "0",
         "00:50:00"
        ],
        [
         "1",
         "2014-04-29 23:40:00",
         "ПАРЕНЬ БИ ИЩЕТ ДРУГА СЕЙЧАС!! СМС ММС 0955532826",
         "23",
         "40",
         "0",
         "23:40:00"
        ],
        [
         "2",
         "2012-12-30 00:21:00",
         "Днепр.м 43 позн.с д/ж *.о  067.16.34.576",
         "0",
         "21",
         "0",
         "00:21:00"
        ],
        [
         "3",
         "2014-11-28 00:31:00",
         "КИЕВ ИЩУ Д/Ж ДО 45 МНЕ СЕЙЧАС СКУЧНО 093 629 98 14 САША ЗВОН",
         "0",
         "31",
         "0",
         "00:31:00"
        ],
        [
         "4",
         "2013-10-26 23:11:00",
         "Зая я тебя никогда не обижу  люблю тебя!)  Даше",
         "23",
         "11",
         "0",
         "23:11:00"
        ]
       ],
       "shape": {
        "columns": 6,
        "rows": 5
       }
      },
      "text/html": [
       "<div>\n",
       "<style scoped>\n",
       "    .dataframe tbody tr th:only-of-type {\n",
       "        vertical-align: middle;\n",
       "    }\n",
       "\n",
       "    .dataframe tbody tr th {\n",
       "        vertical-align: top;\n",
       "    }\n",
       "\n",
       "    .dataframe thead th {\n",
       "        text-align: right;\n",
       "    }\n",
       "</style>\n",
       "<table border=\"1\" class=\"dataframe\">\n",
       "  <thead>\n",
       "    <tr style=\"text-align: right;\">\n",
       "      <th></th>\n",
       "      <th>date</th>\n",
       "      <th>msg</th>\n",
       "      <th>hour</th>\n",
       "      <th>min</th>\n",
       "      <th>sec</th>\n",
       "      <th>time</th>\n",
       "    </tr>\n",
       "  </thead>\n",
       "  <tbody>\n",
       "    <tr>\n",
       "      <th>0</th>\n",
       "      <td>2013-12-15 00:50:00</td>\n",
       "      <td>ищу на сегодня мужика 37</td>\n",
       "      <td>0</td>\n",
       "      <td>50</td>\n",
       "      <td>0</td>\n",
       "      <td>00:50:00</td>\n",
       "    </tr>\n",
       "    <tr>\n",
       "      <th>1</th>\n",
       "      <td>2014-04-29 23:40:00</td>\n",
       "      <td>ПАРЕНЬ БИ ИЩЕТ ДРУГА СЕЙЧАС!! СМС ММС 0955532826</td>\n",
       "      <td>23</td>\n",
       "      <td>40</td>\n",
       "      <td>0</td>\n",
       "      <td>23:40:00</td>\n",
       "    </tr>\n",
       "    <tr>\n",
       "      <th>2</th>\n",
       "      <td>2012-12-30 00:21:00</td>\n",
       "      <td>Днепр.м 43 позн.с д/ж *.о  067.16.34.576</td>\n",
       "      <td>0</td>\n",
       "      <td>21</td>\n",
       "      <td>0</td>\n",
       "      <td>00:21:00</td>\n",
       "    </tr>\n",
       "    <tr>\n",
       "      <th>3</th>\n",
       "      <td>2014-11-28 00:31:00</td>\n",
       "      <td>КИЕВ ИЩУ Д/Ж ДО 45 МНЕ СЕЙЧАС СКУЧНО 093 629 9...</td>\n",
       "      <td>0</td>\n",
       "      <td>31</td>\n",
       "      <td>0</td>\n",
       "      <td>00:31:00</td>\n",
       "    </tr>\n",
       "    <tr>\n",
       "      <th>4</th>\n",
       "      <td>2013-10-26 23:11:00</td>\n",
       "      <td>Зая я тебя никогда не обижу  люблю тебя!)  Даше</td>\n",
       "      <td>23</td>\n",
       "      <td>11</td>\n",
       "      <td>0</td>\n",
       "      <td>23:11:00</td>\n",
       "    </tr>\n",
       "  </tbody>\n",
       "</table>\n",
       "</div>"
      ],
      "text/plain": [
       "                 date                                                msg  \\\n",
       "0 2013-12-15 00:50:00                           ищу на сегодня мужика 37   \n",
       "1 2014-04-29 23:40:00   ПАРЕНЬ БИ ИЩЕТ ДРУГА СЕЙЧАС!! СМС ММС 0955532826   \n",
       "2 2012-12-30 00:21:00           Днепр.м 43 позн.с д/ж *.о  067.16.34.576   \n",
       "3 2014-11-28 00:31:00  КИЕВ ИЩУ Д/Ж ДО 45 МНЕ СЕЙЧАС СКУЧНО 093 629 9...   \n",
       "4 2013-10-26 23:11:00    Зая я тебя никогда не обижу  люблю тебя!)  Даше   \n",
       "\n",
       "   hour  min  sec      time  \n",
       "0     0   50    0  00:50:00  \n",
       "1    23   40    0  23:40:00  \n",
       "2     0   21    0  00:21:00  \n",
       "3     0   31    0  00:31:00  \n",
       "4    23   11    0  23:11:00  "
      ]
     },
     "execution_count": 40,
     "metadata": {},
     "output_type": "execute_result"
    }
   ],
   "source": [
    "time['time'] = time['date'].dt.time\n",
    "time.head()"
   ]
  },
  {
   "cell_type": "markdown",
   "id": "6b28a12d-94d3-4b3b-adfe-72dc47f12ac2",
   "metadata": {},
   "source": [
    "### Time Difference"
   ]
  },
  {
   "cell_type": "code",
   "execution_count": 41,
   "id": "91df8452-8e04-42cf-8816-91006c230d5d",
   "metadata": {},
   "outputs": [
    {
     "data": {
      "application/vnd.microsoft.datawrangler.viewer.v0+json": {
       "columns": [
        {
         "name": "index",
         "rawType": "int64",
         "type": "integer"
        },
        {
         "name": "date",
         "rawType": "timedelta64[ns]",
         "type": "unknown"
        }
       ],
       "ref": "74fbc2e6-ee4f-4c51-832c-1649e6b5fd87",
       "rows": [
        [
         "0",
         "4225 days 11:39:57.121651"
        ],
        [
         "1",
         "4089 days 12:49:57.121651"
        ],
        [
         "2",
         "4575 days 12:08:57.121651"
        ],
        [
         "3",
         "3877 days 11:58:57.121651"
        ],
        [
         "4",
         "4274 days 13:18:57.121651"
        ],
        [
         "5",
         "3410 days 13:37:57.121651"
        ],
        [
         "6",
         "4160 days 12:06:57.121651"
        ],
        [
         "7",
         "4612 days 11:19:57.121651"
        ],
        [
         "8",
         "3852 days 11:09:57.121651"
        ],
        [
         "9",
         "4631 days 12:43:57.121651"
        ],
        [
         "10",
         "4367 days 12:18:57.121651"
        ],
        [
         "11",
         "4222 days 11:50:57.121651"
        ],
        [
         "12",
         "4418 days 11:24:57.121651"
        ],
        [
         "13",
         "3146 days 14:00:57.121651"
        ],
        [
         "14",
         "3567 days 10:47:57.121651"
        ],
        [
         "15",
         "4702 days 13:16:57.121651"
        ],
        [
         "16",
         "3551 days 13:37:57.121651"
        ],
        [
         "17",
         "4288 days 11:28:57.121651"
        ],
        [
         "18",
         "3459 days 13:56:57.121651"
        ],
        [
         "19",
         "4132 days 13:13:57.121651"
        ],
        [
         "20",
         "4047 days 12:17:57.121651"
        ],
        [
         "21",
         "4186 days 12:12:57.121651"
        ],
        [
         "22",
         "3795 days 11:55:57.121651"
        ],
        [
         "23",
         "4321 days 12:23:57.121651"
        ],
        [
         "24",
         "4497 days 10:29:57.121651"
        ],
        [
         "25",
         "4055 days 11:28:57.121651"
        ],
        [
         "26",
         "3265 days 13:10:57.121651"
        ],
        [
         "27",
         "3874 days 13:30:57.121651"
        ],
        [
         "28",
         "3166 days 12:12:57.121651"
        ],
        [
         "29",
         "4128 days 13:33:57.121651"
        ],
        [
         "30",
         "4498 days 13:09:57.121651"
        ],
        [
         "31",
         "4512 days 11:31:57.121651"
        ],
        [
         "32",
         "4888 days 12:49:57.121651"
        ],
        [
         "33",
         "3660 days 11:44:57.121651"
        ],
        [
         "34",
         "3561 days 11:37:57.121651"
        ],
        [
         "35",
         "3544 days 11:22:57.121651"
        ],
        [
         "36",
         "4028 days 11:16:57.121651"
        ],
        [
         "37",
         "4265 days 10:40:57.121651"
        ],
        [
         "38",
         "4275 days 12:17:57.121651"
        ],
        [
         "39",
         "3351 days 12:22:57.121651"
        ],
        [
         "40",
         "4892 days 11:40:57.121651"
        ],
        [
         "41",
         "4520 days 11:36:57.121651"
        ],
        [
         "42",
         "4555 days 11:21:57.121651"
        ],
        [
         "43",
         "4253 days 12:43:57.121651"
        ],
        [
         "44",
         "3295 days 12:47:57.121651"
        ],
        [
         "45",
         "4790 days 12:01:57.121651"
        ],
        [
         "46",
         "4670 days 12:43:57.121651"
        ],
        [
         "47",
         "4078 days 11:58:57.121651"
        ],
        [
         "48",
         "4554 days 13:22:57.121651"
        ],
        [
         "49",
         "3929 days 12:49:57.121651"
        ]
       ],
       "shape": {
        "columns": 1,
        "rows": 1000
       }
      },
      "text/plain": [
       "0     4225 days 11:39:57.121651\n",
       "1     4089 days 12:49:57.121651\n",
       "2     4575 days 12:08:57.121651\n",
       "3     3877 days 11:58:57.121651\n",
       "4     4274 days 13:18:57.121651\n",
       "                 ...           \n",
       "995   4864 days 11:39:57.121651\n",
       "996   4185 days 13:15:57.121651\n",
       "997   4650 days 12:52:57.121651\n",
       "998   4766 days 12:55:57.121651\n",
       "999   4038 days 13:04:57.121651\n",
       "Name: date, Length: 1000, dtype: timedelta64[ns]"
      ]
     },
     "execution_count": 41,
     "metadata": {},
     "output_type": "execute_result"
    }
   ],
   "source": [
    "today - time['date']"
   ]
  },
  {
   "cell_type": "code",
   "execution_count": 42,
   "id": "32638e93-2c4f-4141-a0cc-453f3227cce4",
   "metadata": {},
   "outputs": [
    {
     "data": {
      "application/vnd.microsoft.datawrangler.viewer.v0+json": {
       "columns": [
        {
         "name": "index",
         "rawType": "int64",
         "type": "integer"
        },
        {
         "name": "date",
         "rawType": "float64",
         "type": "float"
        }
       ],
       "ref": "3cb2687f-50b2-4503-b5d6-110f7bad70d9",
       "rows": [
        [
         "0",
         "365081997.121651"
        ],
        [
         "1",
         "353335797.121651"
        ],
        [
         "2",
         "395323737.121651"
        ],
        [
         "3",
         "335015937.121651"
        ],
        [
         "4",
         "369321537.121651"
        ],
        [
         "5",
         "294673077.121651"
        ],
        [
         "6",
         "359467617.121651"
        ],
        [
         "7",
         "398517597.121651"
        ],
        [
         "8",
         "332852997.121651"
        ],
        [
         "9",
         "400164237.121651"
        ],
        [
         "10",
         "377353137.121651"
        ],
        [
         "11",
         "364823457.121651"
        ],
        [
         "12",
         "381756297.121651"
        ],
        [
         "13",
         "271864857.121651"
        ],
        [
         "14",
         "308227677.121651"
        ],
        [
         "15",
         "406300617.121651"
        ],
        [
         "16",
         "306855477.121651"
        ],
        [
         "17",
         "370524537.121651"
        ],
        [
         "18",
         "298907817.121651"
        ],
        [
         "19",
         "357052437.121651"
        ],
        [
         "20",
         "349705077.121651"
        ],
        [
         "21",
         "361714377.121651"
        ],
        [
         "22",
         "327930957.121651"
        ],
        [
         "23",
         "373379037.121651"
        ],
        [
         "24",
         "388578597.121651"
        ],
        [
         "25",
         "350393337.121651"
        ],
        [
         "26",
         "282143457.121651"
        ],
        [
         "27",
         "334762257.121651"
        ],
        [
         "28",
         "273586377.121651"
        ],
        [
         "29",
         "356708037.121651"
        ],
        [
         "30",
         "388674597.121651"
        ],
        [
         "31",
         "389878317.121651"
        ],
        [
         "32",
         "422369397.121651"
        ],
        [
         "33",
         "316266297.121651"
        ],
        [
         "34",
         "307712277.121651"
        ],
        [
         "35",
         "306242577.121651"
        ],
        [
         "36",
         "348059817.121651"
        ],
        [
         "37",
         "368534457.121651"
        ],
        [
         "38",
         "369404277.121651"
        ],
        [
         "39",
         "289570977.121651"
        ],
        [
         "40",
         "422710857.121651"
        ],
        [
         "41",
         "390569817.121651"
        ],
        [
         "42",
         "393592917.121651"
        ],
        [
         "43",
         "367505037.121651"
        ],
        [
         "44",
         "284734077.121651"
        ],
        [
         "45",
         "413899317.121651"
        ],
        [
         "46",
         "403533837.121651"
        ],
        [
         "47",
         "352382337.121651"
        ],
        [
         "48",
         "393513777.121651"
        ],
        [
         "49",
         "339511797.121651"
        ]
       ],
       "shape": {
        "columns": 1,
        "rows": 1000
       }
      },
      "text/plain": [
       "0      3.650820e+08\n",
       "1      3.533358e+08\n",
       "2      3.953237e+08\n",
       "3      3.350159e+08\n",
       "4      3.693215e+08\n",
       "           ...     \n",
       "995    4.202916e+08\n",
       "996    3.616318e+08\n",
       "997    4.018064e+08\n",
       "998    4.118290e+08\n",
       "999    3.489303e+08\n",
       "Name: date, Length: 1000, dtype: float64"
      ]
     },
     "execution_count": 42,
     "metadata": {},
     "output_type": "execute_result"
    }
   ],
   "source": [
    "# difference in seconds\n",
    "(today - time['date']) / np.timedelta64(1, 's')"
   ]
  },
  {
   "cell_type": "code",
   "execution_count": 43,
   "id": "904e1afe-a994-45e1-92d8-347f90047f05",
   "metadata": {},
   "outputs": [
    {
     "data": {
      "application/vnd.microsoft.datawrangler.viewer.v0+json": {
       "columns": [
        {
         "name": "index",
         "rawType": "int64",
         "type": "integer"
        },
        {
         "name": "date",
         "rawType": "float64",
         "type": "float"
        }
       ],
       "ref": "af341786-38ad-4361-a98f-0b6b05aa33d3",
       "rows": [
        [
         "0",
         "6084699.952027516"
        ],
        [
         "1",
         "5888929.952027516"
        ],
        [
         "2",
         "6588728.952027516"
        ],
        [
         "3",
         "5583598.952027516"
        ],
        [
         "4",
         "6155358.952027516"
        ],
        [
         "5",
         "4911217.952027516"
        ],
        [
         "6",
         "5991126.952027516"
        ],
        [
         "7",
         "6641959.952027516"
        ],
        [
         "8",
         "5547549.952027516"
        ],
        [
         "9",
         "6669403.952027516"
        ],
        [
         "10",
         "6289218.952027516"
        ],
        [
         "11",
         "6080390.952027516"
        ],
        [
         "12",
         "6362604.952027516"
        ],
        [
         "13",
         "4531080.952027516"
        ],
        [
         "14",
         "5137127.952027516"
        ],
        [
         "15",
         "6771676.952027516"
        ],
        [
         "16",
         "5114257.952027516"
        ],
        [
         "17",
         "6175408.952027516"
        ],
        [
         "18",
         "4981796.952027516"
        ],
        [
         "19",
         "5950873.952027516"
        ],
        [
         "20",
         "5828417.952027516"
        ],
        [
         "21",
         "6028572.952027516"
        ],
        [
         "22",
         "5465515.952027516"
        ],
        [
         "23",
         "6222983.952027516"
        ],
        [
         "24",
         "6476309.952027516"
        ],
        [
         "25",
         "5839888.952027516"
        ],
        [
         "26",
         "4702390.952027516"
        ],
        [
         "27",
         "5579370.952027516"
        ],
        [
         "28",
         "4559772.952027516"
        ],
        [
         "29",
         "5945133.952027516"
        ],
        [
         "30",
         "6477909.952027516"
        ],
        [
         "31",
         "6497971.952027516"
        ],
        [
         "32",
         "7039489.952027516"
        ],
        [
         "33",
         "5271104.952027516"
        ],
        [
         "34",
         "5128537.952027516"
        ],
        [
         "35",
         "5104042.952027516"
        ],
        [
         "36",
         "5800996.952027516"
        ],
        [
         "37",
         "6142240.952027516"
        ],
        [
         "38",
         "6156737.952027516"
        ],
        [
         "39",
         "4826182.952027516"
        ],
        [
         "40",
         "7045180.952027516"
        ],
        [
         "41",
         "6509496.952027516"
        ],
        [
         "42",
         "6559881.952027516"
        ],
        [
         "43",
         "6125083.952027516"
        ],
        [
         "44",
         "4745567.952027516"
        ],
        [
         "45",
         "6898321.952027516"
        ],
        [
         "46",
         "6725563.952027516"
        ],
        [
         "47",
         "5873038.952027516"
        ],
        [
         "48",
         "6558562.952027516"
        ],
        [
         "49",
         "5658529.952027516"
        ]
       ],
       "shape": {
        "columns": 1,
        "rows": 1000
       }
      },
      "text/plain": [
       "0      6.084700e+06\n",
       "1      5.888930e+06\n",
       "2      6.588729e+06\n",
       "3      5.583599e+06\n",
       "4      6.155359e+06\n",
       "           ...     \n",
       "995    7.004860e+06\n",
       "996    6.027196e+06\n",
       "997    6.696773e+06\n",
       "998    6.863816e+06\n",
       "999    5.815505e+06\n",
       "Name: date, Length: 1000, dtype: float64"
      ]
     },
     "execution_count": 43,
     "metadata": {},
     "output_type": "execute_result"
    }
   ],
   "source": [
    " # difference in minutes\n",
    "(today - time['date']) / np.timedelta64(1, 'm')"
   ]
  },
  {
   "cell_type": "code",
   "execution_count": 44,
   "id": "7449f0df-4433-432b-a9b4-15ff7e24b034",
   "metadata": {},
   "outputs": [
    {
     "data": {
      "application/vnd.microsoft.datawrangler.viewer.v0+json": {
       "columns": [
        {
         "name": "index",
         "rawType": "int64",
         "type": "integer"
        },
        {
         "name": "date",
         "rawType": "float64",
         "type": "float"
        }
       ],
       "ref": "f802f70a-9ce2-413b-9f8a-9ded91bee28d",
       "rows": [
        [
         "0",
         "101411.66586712528"
        ],
        [
         "1",
         "98148.83253379195"
        ],
        [
         "2",
         "109812.14920045862"
        ],
        [
         "3",
         "93059.98253379195"
        ],
        [
         "4",
         "102589.31586712527"
        ],
        [
         "5",
         "81853.63253379194"
        ],
        [
         "6",
         "99852.11586712528"
        ],
        [
         "7",
         "110699.33253379195"
        ],
        [
         "8",
         "92459.16586712528"
        ],
        [
         "9",
         "111156.73253379195"
        ],
        [
         "10",
         "104820.31586712527"
        ],
        [
         "11",
         "101339.84920045862"
        ],
        [
         "12",
         "106043.41586712528"
        ],
        [
         "13",
         "75518.01586712529"
        ],
        [
         "14",
         "85618.79920045861"
        ],
        [
         "15",
         "112861.28253379195"
        ],
        [
         "16",
         "85237.63253379194"
        ],
        [
         "17",
         "102923.48253379195"
        ],
        [
         "18",
         "83029.9492004586"
        ],
        [
         "19",
         "99181.23253379195"
        ],
        [
         "20",
         "97140.29920045861"
        ],
        [
         "21",
         "100476.21586712528"
        ],
        [
         "22",
         "91091.93253379194"
        ],
        [
         "23",
         "103716.39920045862"
        ],
        [
         "24",
         "107938.49920045861"
        ],
        [
         "25",
         "97331.48253379195"
        ],
        [
         "26",
         "78373.18253379194"
        ],
        [
         "27",
         "92989.51586712529"
        ],
        [
         "28",
         "75996.21586712528"
        ],
        [
         "29",
         "99085.56586712527"
        ],
        [
         "30",
         "107965.16586712528"
        ],
        [
         "31",
         "108299.53253379195"
        ],
        [
         "32",
         "117324.83253379195"
        ],
        [
         "33",
         "87851.74920045861"
        ],
        [
         "34",
         "85475.63253379194"
        ],
        [
         "35",
         "85067.38253379194"
        ],
        [
         "36",
         "96683.28253379195"
        ],
        [
         "37",
         "102370.68253379194"
        ],
        [
         "38",
         "102612.29920045861"
        ],
        [
         "39",
         "80436.38253379194"
        ],
        [
         "40",
         "117419.68253379194"
        ],
        [
         "41",
         "108491.61586712528"
        ],
        [
         "42",
         "109331.36586712528"
        ],
        [
         "43",
         "102084.73253379195"
        ],
        [
         "44",
         "79092.79920045861"
        ],
        [
         "45",
         "114972.03253379195"
        ],
        [
         "46",
         "112092.73253379195"
        ],
        [
         "47",
         "97883.98253379195"
        ],
        [
         "48",
         "109309.38253379194"
        ],
        [
         "49",
         "94308.83253379195"
        ]
       ],
       "shape": {
        "columns": 1,
        "rows": 1000
       }
      },
      "text/plain": [
       "0      101411.665867\n",
       "1       98148.832534\n",
       "2      109812.149200\n",
       "3       93059.982534\n",
       "4      102589.315867\n",
       "           ...      \n",
       "995    116747.665867\n",
       "996    100453.265867\n",
       "997    111612.882534\n",
       "998    114396.932534\n",
       "999     96925.082534\n",
       "Name: date, Length: 1000, dtype: float64"
      ]
     },
     "execution_count": 44,
     "metadata": {},
     "output_type": "execute_result"
    }
   ],
   "source": [
    " # difference in hours\n",
    "(today - time['date']) / np.timedelta64(1, 'h')"
   ]
  },
  {
   "cell_type": "code",
   "execution_count": null,
   "id": "cda2aa48-594c-47b9-b2f6-3f7873b794a4",
   "metadata": {},
   "outputs": [],
   "source": []
  }
 ],
 "metadata": {
  "kernelspec": {
   "display_name": "base",
   "language": "python",
   "name": "python3"
  },
  "language_info": {
   "codemirror_mode": {
    "name": "ipython",
    "version": 3
   },
   "file_extension": ".py",
   "mimetype": "text/x-python",
   "name": "python",
   "nbconvert_exporter": "python",
   "pygments_lexer": "ipython3",
   "version": "3.12.7"
  }
 },
 "nbformat": 4,
 "nbformat_minor": 5
}
