{
 "cells": [
  {
   "cell_type": "markdown",
   "id": "3feed2fe",
   "metadata": {},
   "source": [
    "If-Else Statement"
   ]
  },
  {
   "cell_type": "code",
   "execution_count": 9,
   "id": "3591d831",
   "metadata": {},
   "outputs": [
    {
     "name": "stdout",
     "output_type": "stream",
     "text": [
      "Numver is 46.0 and it is even\n"
     ]
    }
   ],
   "source": [
    "value = float(input(\"Enter the number\"))\n",
    "#print(value)\n",
    "#if value > 0 : print(f\"number is {value} and it is greater than than 0. \")\n",
    "#else: print(\"Number is less than or equal to 0\")\n",
    "if (value%2 == 0) : print(f\"Numver is {value} and it is even\")\n",
    "else: print(f\"Numver is {value} and it is odd\")"
   ]
  },
  {
   "cell_type": "code",
   "execution_count": 11,
   "id": "484e6b8e",
   "metadata": {},
   "outputs": [
    {
     "name": "stdout",
     "output_type": "stream",
     "text": [
      "You are not eligible to vote\n"
     ]
    }
   ],
   "source": [
    "# Age Form\n",
    "age  = int(input(\"Enter the age : \"))\n",
    "if age < 18 : print(\"You are not eligible to vote\")\n",
    "else: print(\"You are eligible to vote\")"
   ]
  },
  {
   "cell_type": "code",
   "execution_count": 14,
   "id": "6c9bda79",
   "metadata": {},
   "outputs": [
    {
     "name": "stdout",
     "output_type": "stream",
     "text": [
      "Number is greater than 200\n"
     ]
    }
   ],
   "source": [
    "# Nested-if\n",
    "num = int(input(\"Enter the number\"))\n",
    "if num < 0 : print(\"Number is negative\")\n",
    "elif num > 0 and num < 100 : print(\"Number is between 0 and 100\")\n",
    "elif num > 100 and num < 200 : print(\"Number is between 100 and 200\")\n",
    "else: print(\"Number is greater than 200\")"
   ]
  },
  {
   "cell_type": "code",
   "execution_count": null,
   "id": "39da3399",
   "metadata": {},
   "outputs": [],
   "source": []
  }
 ],
 "metadata": {
  "kernelspec": {
   "display_name": "base",
   "language": "python",
   "name": "python3"
  },
  "language_info": {
   "codemirror_mode": {
    "name": "ipython",
    "version": 3
   },
   "file_extension": ".py",
   "mimetype": "text/x-python",
   "name": "python",
   "nbconvert_exporter": "python",
   "pygments_lexer": "ipython3",
   "version": "3.12.7"
  }
 },
 "nbformat": 4,
 "nbformat_minor": 5
}
