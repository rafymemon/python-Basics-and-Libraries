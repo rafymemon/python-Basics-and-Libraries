{
 "cells": [
  {
   "cell_type": "markdown",
   "id": "a758a39f",
   "metadata": {},
   "source": [
    "List\n",
    "A list is a data structure in python that is mutable, or changedable ordered sequence of elements. Each element or value which is inside of the list is called item. Just as strings are defined between the double quotes lists are defined as having values between [] bracket.\n",
    "Methods that can be used by list are : \n",
    "len() to find the length of the list\n",
    "max(), min()\n",
    "append() used to add elements in the list\n",
    "pop()\n",
    "remove()\n",
    "reverse()\n"
   ]
  },
  {
   "cell_type": "code",
   "execution_count": 3,
   "id": "59512526",
   "metadata": {},
   "outputs": [
    {
     "name": "stdout",
     "output_type": "stream",
     "text": [
      "Rafy\n",
      "Mustafa\n"
     ]
    }
   ],
   "source": [
    "# mutable and immutable\n",
    "str1 = \"Rafy\"\n",
    "print(str1)\n",
    "type(str1)\n",
    "str1 = \"Mustafa\"\n",
    "print(str1)"
   ]
  },
  {
   "cell_type": "code",
   "execution_count": 8,
   "id": "3131cb0e",
   "metadata": {},
   "outputs": [
    {
     "name": "stdout",
     "output_type": "stream",
     "text": [
      "[1, 2, 3, 4, 'Hello', 'World']\n",
      "[150, 2, 3, 4, 'Hello', 'World']\n",
      "Hello\n"
     ]
    }
   ],
   "source": [
    "lst = [1, 2, 3, 4, \"Hello\", \"World\"]\n",
    "print(lst)\n",
    "type(lst)\n",
    "lst[0] = 150\n",
    "print(lst)\n",
    "print(lst[4])"
   ]
  },
  {
   "cell_type": "code",
   "execution_count": null,
   "id": "4dd4204c",
   "metadata": {},
   "outputs": [],
   "source": []
  }
 ],
 "metadata": {
  "kernelspec": {
   "display_name": "base",
   "language": "python",
   "name": "python3"
  },
  "language_info": {
   "codemirror_mode": {
    "name": "ipython",
    "version": 3
   },
   "file_extension": ".py",
   "mimetype": "text/x-python",
   "name": "python",
   "nbconvert_exporter": "python",
   "pygments_lexer": "ipython3",
   "version": "3.12.7"
  }
 },
 "nbformat": 4,
 "nbformat_minor": 5
}
