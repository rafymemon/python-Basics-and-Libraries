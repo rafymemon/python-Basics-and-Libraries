{
 "cells": [
  {
   "cell_type": "markdown",
   "id": "a758a39f",
   "metadata": {},
   "source": [
    "List\n",
    "A list is a data structure in python that is mutable, or changedable ordered sequence of elements. Each element or value which is inside of the list is called item. Just as strings are defined between the double quotes lists are defined as having values between [] bracket.\n",
    "Methods that can be used by list are : \n",
    "len() to find the length of the list\n",
    "max(), min()\n",
    "append() used to add elements in the list\n",
    "pop()\n",
    "remove()\n",
    "reverse()\n"
   ]
  },
  {
   "cell_type": "code",
   "execution_count": 3,
   "id": "59512526",
   "metadata": {},
   "outputs": [
    {
     "name": "stdout",
     "output_type": "stream",
     "text": [
      "Rafy\n",
      "Mustafa\n"
     ]
    }
   ],
   "source": [
    "# mutable and immutable\n",
    "str1 = \"Rafy\"\n",
    "print(str1)\n",
    "type(str1)\n",
    "str1 = \"Mustafa\"\n",
    "print(str1)"
   ]
  },
  {
   "cell_type": "code",
   "execution_count": 8,
   "id": "3131cb0e",
   "metadata": {},
   "outputs": [
    {
     "name": "stdout",
     "output_type": "stream",
     "text": [
      "[1, 2, 3, 4, 'Hello', 'World']\n",
      "[150, 2, 3, 4, 'Hello', 'World']\n",
      "Hello\n"
     ]
    }
   ],
   "source": [
    "lst = [1, 2, 3, 4, \"Hello\", \"World\"]\n",
    "print(lst)\n",
    "type(lst)\n",
    "lst[0] = 150\n",
    "print(lst)\n",
    "print(lst[4])"
   ]
  },
  {
   "cell_type": "code",
   "execution_count": 14,
   "id": "4dd4204c",
   "metadata": {},
   "outputs": [
    {
     "name": "stdout",
     "output_type": "stream",
     "text": [
      "1\n",
      "29\n",
      "64\n",
      "[4, 5, 6]\n"
     ]
    }
   ],
   "source": [
    "list2 = list((1, 2, 4, 5, 6, 8, 9, 29))\n",
    "len(list2)\n",
    "\n",
    "print(min(list2))\n",
    "print(max(list2))\n",
    "print(sum(list2))\n",
    "print(list2[2:5])  # slicing\n",
    "\n"
   ]
  },
  {
   "cell_type": "code",
   "execution_count": null,
   "id": "c81e39d8",
   "metadata": {},
   "outputs": [
    {
     "name": "stdout",
     "output_type": "stream",
     "text": [
      "[1, 2, 4, 6, 8, 9, 29, 100, 100, 100]\n",
      "[1, 2, 200, 4, 6, 8, 9, 29, 100, 100, 100]\n",
      "[1, 2, 4, 6, 8, 9, 29, 100, 100, 100]\n",
      "[1, 2, 4, 8, 9, 29, 100, 100, 100]\n"
     ]
    },
    {
     "data": {
      "text/plain": [
       "3"
      ]
     },
     "execution_count": 17,
     "metadata": {},
     "output_type": "execute_result"
    }
   ],
   "source": [
    "# Important functions in list\n",
    "# append, insert, remove, pop, clear, sort, reverse\n",
    "list2.append(100)\n",
    "print(list2)\n",
    "\n",
    "list2.insert(2, 200)\n",
    "print(list2)\n",
    "\n",
    "list2.remove(200)\n",
    "print(list2)\n",
    "\n",
    "list2.pop(3)  # removes the element at index 3\n",
    "print(list2)\n",
    "\n",
    "list2.count(100) # counts how many times 100 appears in the list\n",
    " \n",
    "\n",
    "#list2.clear()\n",
    "#print(list2)"
   ]
  },
  {
   "cell_type": "code",
   "execution_count": null,
   "id": "d3061e04",
   "metadata": {},
   "outputs": [],
   "source": []
  }
 ],
 "metadata": {
  "kernelspec": {
   "display_name": "base",
   "language": "python",
   "name": "python3"
  },
  "language_info": {
   "codemirror_mode": {
    "name": "ipython",
    "version": 3
   },
   "file_extension": ".py",
   "mimetype": "text/x-python",
   "name": "python",
   "nbconvert_exporter": "python",
   "pygments_lexer": "ipython3",
   "version": "3.12.7"
  }
 },
 "nbformat": 4,
 "nbformat_minor": 5
}
