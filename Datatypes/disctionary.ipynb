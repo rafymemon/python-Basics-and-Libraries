{
 "cells": [
  {
   "cell_type": "markdown",
   "id": "d7e139b6",
   "metadata": {},
   "source": [
    "# Dictionary\n",
    "A dictionary is a collection which is unordered, changeable and indexed. In python dictionaries are written with curly brackets and they have key values. "
   ]
  },
  {
   "cell_type": "code",
   "execution_count": 2,
   "id": "97fe7b9f",
   "metadata": {},
   "outputs": [],
   "source": [
    "dic = {}"
   ]
  },
  {
   "cell_type": "code",
   "execution_count": 3,
   "id": "f4c0ab25",
   "metadata": {},
   "outputs": [
    {
     "name": "stdout",
     "output_type": "stream",
     "text": [
      "<class 'dict'>\n"
     ]
    }
   ],
   "source": [
    "print(type(dic))  # This line is just to ensure the code runs without syntax errors"
   ]
  },
  {
   "cell_type": "code",
   "execution_count": 4,
   "id": "f67451ba",
   "metadata": {},
   "outputs": [
    {
     "data": {
      "text/plain": [
       "{'name': 'Alice', 'age': 30, 'city': 'New York'}"
      ]
     },
     "execution_count": 4,
     "metadata": {},
     "output_type": "execute_result"
    }
   ],
   "source": [
    "dict(name = 'Alice', age=30, city='New York')"
   ]
  },
  {
   "cell_type": "code",
   "execution_count": 5,
   "id": "e8d70814",
   "metadata": {},
   "outputs": [],
   "source": [
    "# creating a dictionary \n",
    "dictionary = {\n",
    "    'name': 'Bob',\n",
    "    'age': 26,\n",
    "    'city': 'New York',\n",
    "    'state': 'NY'\n",
    "}"
   ]
  },
  {
   "cell_type": "code",
   "execution_count": 6,
   "id": "07c2bdff",
   "metadata": {},
   "outputs": [
    {
     "name": "stdout",
     "output_type": "stream",
     "text": [
      "{'name': 'Bob', 'age': 26, 'city': 'New York', 'state': 'NY'}\n"
     ]
    }
   ],
   "source": [
    "print(dictionary)"
   ]
  },
  {
   "cell_type": "code",
   "execution_count": 7,
   "id": "b87345d3",
   "metadata": {},
   "outputs": [
    {
     "data": {
      "text/plain": [
       "dict"
      ]
     },
     "execution_count": 7,
     "metadata": {},
     "output_type": "execute_result"
    }
   ],
   "source": [
    "type(dictionary)"
   ]
  },
  {
   "cell_type": "code",
   "execution_count": 8,
   "id": "a91f5b13",
   "metadata": {},
   "outputs": [
    {
     "data": {
      "text/plain": [
       "26"
      ]
     },
     "execution_count": 8,
     "metadata": {},
     "output_type": "execute_result"
    }
   ],
   "source": [
    "# Accessing the item values using keys\n",
    "dictionary['age']"
   ]
  },
  {
   "cell_type": "code",
   "execution_count": 9,
   "id": "d0e4e60c",
   "metadata": {},
   "outputs": [
    {
     "data": {
      "text/plain": [
       "dict_items([('name', 'Bob'), ('age', 26), ('city', 'New York'), ('state', 'NY')])"
      ]
     },
     "execution_count": 9,
     "metadata": {},
     "output_type": "execute_result"
    }
   ],
   "source": [
    "dictionary.items()"
   ]
  },
  {
   "cell_type": "code",
   "execution_count": 10,
   "id": "95ae3f67",
   "metadata": {},
   "outputs": [
    {
     "data": {
      "text/plain": [
       "dict_keys(['name', 'age', 'city', 'state'])"
      ]
     },
     "execution_count": 10,
     "metadata": {},
     "output_type": "execute_result"
    }
   ],
   "source": [
    "dictionary.keys()"
   ]
  },
  {
   "cell_type": "code",
   "execution_count": 11,
   "id": "204b9b03",
   "metadata": {},
   "outputs": [
    {
     "data": {
      "text/plain": [
       "dict_values(['Bob', 26, 'New York', 'NY'])"
      ]
     },
     "execution_count": 11,
     "metadata": {},
     "output_type": "execute_result"
    }
   ],
   "source": [
    "dictionary.values()"
   ]
  },
  {
   "cell_type": "code",
   "execution_count": 13,
   "id": "0a9bcfcf",
   "metadata": {},
   "outputs": [
    {
     "name": "stdout",
     "output_type": "stream",
     "text": [
      "('name', 'Bob')\n",
      "('age', 26)\n",
      "('city', 'New York')\n",
      "('state', 'NY')\n"
     ]
    }
   ],
   "source": [
    "for x in dictionary.items():\n",
    "    print(x)"
   ]
  },
  {
   "cell_type": "code",
   "execution_count": 15,
   "id": "7c436bb2",
   "metadata": {},
   "outputs": [
    {
     "name": "stdout",
     "output_type": "stream",
     "text": [
      "{'car1': {'Marcedez': 1960}, 'car2': {'Audi': 1980}, 'car3': {'Rolce Royce': 1990}}\n"
     ]
    }
   ],
   "source": [
    "# Nested Dictionaries\n",
    "car1_model = {'Marcedez': 1960}\n",
    "car2_model = {'Audi': 1980}\n",
    "car3_model = {'Rolce Royce': 1990}\n",
    "car_type = {'car1' : car1_model, \n",
    "            'car2' : car2_model,\n",
    "            'car3' : car3_model}\n",
    "\n",
    "print(car_type)\n"
   ]
  },
  {
   "cell_type": "code",
   "execution_count": null,
   "id": "cbbd69ac",
   "metadata": {},
   "outputs": [],
   "source": []
  }
 ],
 "metadata": {
  "kernelspec": {
   "display_name": "base",
   "language": "python",
   "name": "python3"
  },
  "language_info": {
   "codemirror_mode": {
    "name": "ipython",
    "version": 3
   },
   "file_extension": ".py",
   "mimetype": "text/x-python",
   "name": "python",
   "nbconvert_exporter": "python",
   "pygments_lexer": "ipython3",
   "version": "3.12.7"
  }
 },
 "nbformat": 4,
 "nbformat_minor": 5
}
