{
 "cells": [
  {
   "cell_type": "markdown",
   "id": "554c6d60",
   "metadata": {},
   "source": [
    "Python Number Methods"
   ]
  },
  {
   "cell_type": "code",
   "execution_count": null,
   "id": "e54b85b3",
   "metadata": {},
   "outputs": [
    {
     "data": {
      "text/plain": [
       "20"
      ]
     },
     "execution_count": 2,
     "metadata": {},
     "output_type": "execute_result"
    }
   ],
   "source": [
    "# abs() function used to return the absolute(positive) value of a number. The number can be an integer, float, or complex number.\n",
    "abs(10)\n",
    "abs(-20)"
   ]
  },
  {
   "cell_type": "code",
   "execution_count": null,
   "id": "ee3f090e",
   "metadata": {},
   "outputs": [
    {
     "data": {
      "text/plain": [
       "11"
      ]
     },
     "execution_count": 3,
     "metadata": {},
     "output_type": "execute_result"
    }
   ],
   "source": [
    "# Ceil() function used to return the smallest integer greater than or equal to a given number.\n",
    "import math\n",
    "math.ceil(10.2) # 11 "
   ]
  },
  {
   "cell_type": "code",
   "execution_count": 4,
   "id": "bf875633",
   "metadata": {},
   "outputs": [
    {
     "data": {
      "text/plain": [
       "10"
      ]
     },
     "execution_count": 4,
     "metadata": {},
     "output_type": "execute_result"
    }
   ],
   "source": [
    "# Floor() function used to return the largest integer less than or equal to a given number.\n",
    "math.floor(10.2) # 10"
   ]
  },
  {
   "cell_type": "code",
   "execution_count": 5,
   "id": "e0e6aa6b",
   "metadata": {},
   "outputs": [
    {
     "data": {
      "text/plain": [
       "7.38905609893065"
      ]
     },
     "execution_count": 5,
     "metadata": {},
     "output_type": "execute_result"
    }
   ],
   "source": [
    "# exp() function used to return the value of e raised to the power of a given number.\n",
    "math.exp(2) # 7.38905609893065"
   ]
  },
  {
   "cell_type": "code",
   "execution_count": 6,
   "id": "c5887dc3",
   "metadata": {},
   "outputs": [
    {
     "data": {
      "text/plain": [
       "2.0"
      ]
     },
     "execution_count": 6,
     "metadata": {},
     "output_type": "execute_result"
    }
   ],
   "source": [
    "# log(x, base) function used to return the logarithm of x to the given base.\n",
    "math.log(100, 10) # 2.0"
   ]
  },
  {
   "cell_type": "code",
   "execution_count": 7,
   "id": "e374788a",
   "metadata": {},
   "outputs": [
    {
     "data": {
      "text/plain": [
       "30"
      ]
     },
     "execution_count": 7,
     "metadata": {},
     "output_type": "execute_result"
    }
   ],
   "source": [
    "# max() function used to return the largest of the given numbers.\n",
    "max(10, 20, 30) # 30"
   ]
  },
  {
   "cell_type": "code",
   "execution_count": 8,
   "id": "e23b7d49",
   "metadata": {},
   "outputs": [
    {
     "data": {
      "text/plain": [
       "10"
      ]
     },
     "execution_count": 8,
     "metadata": {},
     "output_type": "execute_result"
    }
   ],
   "source": [
    "# min() function used to return the smallest of the given numbers.\n",
    "min(10, 20, 30) # 10"
   ]
  },
  {
   "cell_type": "code",
   "execution_count": 9,
   "id": "9d42be2a",
   "metadata": {},
   "outputs": [
    {
     "data": {
      "text/plain": [
       "8"
      ]
     },
     "execution_count": 9,
     "metadata": {},
     "output_type": "execute_result"
    }
   ],
   "source": [
    "# pow(x, y) function used to return the value of x raised to the power of y.\n",
    "pow(2, 3) # 8"
   ]
  },
  {
   "cell_type": "code",
   "execution_count": 10,
   "id": "0d3194bb",
   "metadata": {},
   "outputs": [
    {
     "data": {
      "text/plain": [
       "4.0"
      ]
     },
     "execution_count": 10,
     "metadata": {},
     "output_type": "execute_result"
    }
   ],
   "source": [
    "# sqrt() function used to return the square root of a number.\n",
    "math.sqrt(16) # 4.0"
   ]
  },
  {
   "cell_type": "code",
   "execution_count": 11,
   "id": "aba90e17",
   "metadata": {},
   "outputs": [
    {
     "data": {
      "text/plain": [
       "5.0"
      ]
     },
     "execution_count": 11,
     "metadata": {},
     "output_type": "execute_result"
    }
   ],
   "source": [
    "# hypot(x, y) function used to return the length of the hypotenuse of a right-angled triangle with sides x and y.\n",
    "math.hypot(3, 4) # 5.0\n"
   ]
  },
  {
   "cell_type": "code",
   "execution_count": 12,
   "id": "b864a568",
   "metadata": {},
   "outputs": [
    {
     "data": {
      "text/plain": [
       "(0.5, 10.0)"
      ]
     },
     "execution_count": 12,
     "metadata": {},
     "output_type": "execute_result"
    }
   ],
   "source": [
    "# modf() function used to return the remainder of the division of x by y.\n",
    "math.modf(10.5) # (0.5, 10.0)"
   ]
  },
  {
   "cell_type": "code",
   "execution_count": null,
   "id": "6bebba67",
   "metadata": {},
   "outputs": [],
   "source": []
  }
 ],
 "metadata": {
  "kernelspec": {
   "display_name": "base",
   "language": "python",
   "name": "python3"
  },
  "language_info": {
   "codemirror_mode": {
    "name": "ipython",
    "version": 3
   },
   "file_extension": ".py",
   "mimetype": "text/x-python",
   "name": "python",
   "nbconvert_exporter": "python",
   "pygments_lexer": "ipython3",
   "version": "3.12.7"
  }
 },
 "nbformat": 4,
 "nbformat_minor": 5
}
