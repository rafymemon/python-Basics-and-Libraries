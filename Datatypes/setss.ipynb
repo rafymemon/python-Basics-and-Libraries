{
 "cells": [
  {
   "cell_type": "markdown",
   "id": "fb147c56",
   "metadata": {},
   "source": [
    "# SETS\n",
    "A set is a unordered collection datatype that is iterateable, mutable and has no duplicate elements.Python's set class represent the mathematical notion of a set. This is based on data structure known as hash table."
   ]
  },
  {
   "cell_type": "code",
   "execution_count": null,
   "id": "bb2a32a1",
   "metadata": {},
   "outputs": [
    {
     "name": "stdout",
     "output_type": "stream",
     "text": [
      "set()\n",
      "<class 'set'>\n"
     ]
    }
   ],
   "source": [
    "# Demonstrating the use of a set in Python\n",
    "set_var = set()\n",
    "print(set_var)\n",
    "print(type(set_var))"
   ]
  },
  {
   "cell_type": "code",
   "execution_count": 2,
   "id": "a5bea5d7",
   "metadata": {},
   "outputs": [
    {
     "name": "stdout",
     "output_type": "stream",
     "text": [
      "{1, 2, 3, 4, 5}\n"
     ]
    }
   ],
   "source": [
    "set_var = {1, 2, 3, 4, 5}\n",
    "print(set_var)"
   ]
  },
  {
   "cell_type": "code",
   "execution_count": 3,
   "id": "6a59c44a",
   "metadata": {},
   "outputs": [
    {
     "name": "stdout",
     "output_type": "stream",
     "text": [
      "{'Captain America', 'Thor', 'Ironman', 'Hulk'}\n"
     ]
    }
   ],
   "source": [
    "set_var = {'Ironman', 'Hulk', 'Thor', 'Captain America'}\n",
    "print(set_var)"
   ]
  },
  {
   "cell_type": "code",
   "execution_count": 5,
   "id": "02f658f6",
   "metadata": {},
   "outputs": [],
   "source": [
    "#set_var[2] # Uncommenting the line above will raise a TypeError because sets are unordered and do not support subscripting access"
   ]
  },
  {
   "cell_type": "code",
   "execution_count": 6,
   "id": "eb8a1114",
   "metadata": {},
   "outputs": [
    {
     "name": "stdout",
     "output_type": "stream",
     "text": [
      "Captain America\n",
      "Thor\n",
      "Ironman\n",
      "Hulk\n"
     ]
    }
   ],
   "source": [
    "for i in set_var: \n",
    "    print(i)"
   ]
  },
  {
   "cell_type": "code",
   "execution_count": 10,
   "id": "112ce22a",
   "metadata": {},
   "outputs": [
    {
     "name": "stdout",
     "output_type": "stream",
     "text": [
      "{'Captain America', 'Thor', 'Hulk', 'Batman', 'Superman', 'Ironman'}\n"
     ]
    }
   ],
   "source": [
    "# inbuilt functions in set\n",
    "set_var.add('Batman')\n",
    "set_var.add('Superman')\n",
    "print(set_var)\n"
   ]
  },
  {
   "cell_type": "code",
   "execution_count": 11,
   "id": "16e8c859",
   "metadata": {},
   "outputs": [
    {
     "name": "stdout",
     "output_type": "stream",
     "text": [
      "{2, 3, 43, 53, 55, 23}\n"
     ]
    }
   ],
   "source": [
    "# set sort itself automatically\n",
    "set_1 = set([3, 43, 53, 23, 2, 55])\n",
    "print(set_1)"
   ]
  },
  {
   "cell_type": "code",
   "execution_count": 12,
   "id": "2b4e6058",
   "metadata": {},
   "outputs": [
    {
     "data": {
      "text/plain": [
       "{0, 2, 3, 23, 43, 53, 55}"
      ]
     },
     "execution_count": 12,
     "metadata": {},
     "output_type": "execute_result"
    }
   ],
   "source": [
    "set_1.add(0)\n",
    "set_1"
   ]
  },
  {
   "cell_type": "code",
   "execution_count": 15,
   "id": "540e2357",
   "metadata": {},
   "outputs": [
    {
     "name": "stdout",
     "output_type": "stream",
     "text": [
      "{'blue', 'green'}\n"
     ]
    }
   ],
   "source": [
    "# intersection and intersection_update\n",
    "set_x = set(['yellow', 'blue', 'green'])\n",
    "set_y = set(['blue', 'red', 'green'])\n",
    "#set_x.intersection(set_y)  # Returns a new set with elements common to both sets but will not update set_x\n",
    "set_x.intersection_update(set_y) # Updates set_x with elements common to both sets\n",
    "print(set_x)"
   ]
  },
  {
   "cell_type": "code",
   "execution_count": 18,
   "id": "70d4eecc",
   "metadata": {},
   "outputs": [
    {
     "data": {
      "text/plain": [
       "{'red'}"
      ]
     },
     "execution_count": 18,
     "metadata": {},
     "output_type": "execute_result"
    }
   ],
   "source": [
    "# difference and difference_update\n",
    "#set_y.difference(set_x) # Returns a new set with elements in set_y but not in set_x\n",
    "set_y.difference_update(set_x) # Updates set_y with elements in set_y but not in set_x\n",
    "set_y"
   ]
  },
  {
   "cell_type": "code",
   "execution_count": 21,
   "id": "f3b1dbf5",
   "metadata": {},
   "outputs": [
    {
     "data": {
      "text/plain": [
       "False"
      ]
     },
     "execution_count": 21,
     "metadata": {},
     "output_type": "execute_result"
    }
   ],
   "source": [
    "# superset and subset\n",
    "set_y.issuperset(set_x)  # Returns True if set_y contains all elements of set_x\n",
    "set_x.issuperset(set_y)  # Returns True if set_x is contained within set_y"
   ]
  },
  {
   "cell_type": "code",
   "execution_count": null,
   "id": "ae1a54b9",
   "metadata": {},
   "outputs": [],
   "source": []
  }
 ],
 "metadata": {
  "kernelspec": {
   "display_name": "base",
   "language": "python",
   "name": "python3"
  },
  "language_info": {
   "codemirror_mode": {
    "name": "ipython",
    "version": 3
   },
   "file_extension": ".py",
   "mimetype": "text/x-python",
   "name": "python",
   "nbconvert_exporter": "python",
   "pygments_lexer": "ipython3",
   "version": "3.12.7"
  }
 },
 "nbformat": 4,
 "nbformat_minor": 5
}
